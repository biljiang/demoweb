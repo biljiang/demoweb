{
 "cells": [
  {
   "cell_type": "code",
   "execution_count": 120,
   "metadata": {},
   "outputs": [],
   "source": [
    "from kafka import KafkaProducer,KafkaConsumer\n",
    "import json\n",
    "import pandas as pd\n",
    "#from datetime import datetime\n",
    "from pandas import DataFrame, Series\n"
   ]
  },
  {
   "cell_type": "code",
   "execution_count": 101,
   "metadata": {},
   "outputs": [],
   "source": [
    "R = pd.read_csv(\"realtime.csv\",index_col=0)\n",
    "T = pd.read_csv(\"test.csv\",index_col=0,float_precision ='round_trip')"
   ]
  },
  {
   "cell_type": "code",
   "execution_count": 102,
   "metadata": {},
   "outputs": [],
   "source": [
    "producer = KafkaProducer(bootstrap_servers='m3:9092,m4:9092')"
   ]
  },
  {
   "cell_type": "code",
   "execution_count": 113,
   "metadata": {},
   "outputs": [],
   "source": [
    "s = T.iloc[1]"
   ]
  },
  {
   "cell_type": "code",
   "execution_count": 114,
   "metadata": {},
   "outputs": [],
   "source": [
    "s_json = s.to_json()"
   ]
  },
  {
   "cell_type": "code",
   "execution_count": 115,
   "metadata": {},
   "outputs": [
    {
     "data": {
      "text/plain": [
       "b'{\"GROSS_LOAD\":957.5769043,\"AMBIENT_TEMPERATURE\":21.35727119,\"SUCTION_STRAINER_DP\":25.80605888,\"SUCTION_PRESSURE_1\":1.312286139,\"SUCTION_TEMP_1\":185.2094879,\"DISCHARGE_PRESSURE\":2.63214469,\"PUMP_DELTA_PRESS_CV\":1.319858551,\"DISCHARGE_TEMP_1\":185.2094879,\"FLOW_1\":1521.362793,\"FLOW_2\":1522.381348,\"DISCHARGE_FLOW_COMMON\":1533.540527,\"MOTOR_CURRENT\":89.92672729,\"MOTOR_OB_TEMP_1\":36.66304016,\"MOTOR_IB_TEMP_1\":54.71751022,\"MOTOR_STATOR_TEMP_1\":75.69678497,\"MOTOR_STATOR_TEMP_2\":72.34786224,\"MOTOR_STATOR_TEMP_3\":70.83149719,\"PUMP_IB_TEMP_1\":58.07463455,\"PUMP_OB_TEMP_1\":68.7672348,\"PUMP_OB_TEMP_2\":61.98254395,\"IB_SEAL_DRAIN_TEMP\":42.54071426,\"OB_SEAL_DRAIN_TEMP\":41.99652863}'"
      ]
     },
     "execution_count": 115,
     "metadata": {},
     "output_type": "execute_result"
    }
   ],
   "source": [
    "s_json.encode()"
   ]
  },
  {
   "cell_type": "code",
   "execution_count": 44,
   "metadata": {},
   "outputs": [],
   "source": [
    "for i in range (len(T)):\n",
    "    s_json = T.iloc[i].to_json()\n",
    "    producer.send(\"PGsimulation\",value=s_json.encode())"
   ]
  },
  {
   "cell_type": "code",
   "execution_count": 43,
   "metadata": {},
   "outputs": [],
   "source": [
    "# consumer = KafkaConsumer('PGsimulation',bootstrap_servers='m3:9092,m4:9092', group_id='PG_simu_con')"
   ]
  },
  {
   "cell_type": "code",
   "execution_count": 45,
   "metadata": {},
   "outputs": [],
   "source": [
    "# consumer.close()"
   ]
  },
  {
   "cell_type": "code",
   "execution_count": 116,
   "metadata": {},
   "outputs": [],
   "source": [
    "s1=pd.read_json(s_json,typ='series')"
   ]
  },
  {
   "cell_type": "code",
   "execution_count": 168,
   "metadata": {},
   "outputs": [],
   "source": [
    "from datetime import datetime\n",
    "#s1.name=datetime.now().strftime(\"%Y-%m-%-d %H:%M:%S\")\n",
    "s1.name=datetime.now()"
   ]
  },
  {
   "cell_type": "code",
   "execution_count": 163,
   "metadata": {},
   "outputs": [],
   "source": [
    "s1.name=datetime(2018,11,11,12,0,30)"
   ]
  },
  {
   "cell_type": "code",
   "execution_count": 164,
   "metadata": {},
   "outputs": [],
   "source": [
    "df = pd.DataFrame()"
   ]
  },
  {
   "cell_type": "code",
   "execution_count": 169,
   "metadata": {},
   "outputs": [],
   "source": [
    "df =df.append(s1)"
   ]
  },
  {
   "cell_type": "code",
   "execution_count": 166,
   "metadata": {},
   "outputs": [
    {
     "data": {
      "text/plain": [
       "DatetimeIndex(['2018-11-11 12:00:30'], dtype='datetime64[ns]', freq=None)"
      ]
     },
     "execution_count": 166,
     "metadata": {},
     "output_type": "execute_result"
    }
   ],
   "source": [
    "df.index"
   ]
  },
  {
   "cell_type": "code",
   "execution_count": 178,
   "metadata": {},
   "outputs": [],
   "source": [
    "import os,sys,daemon"
   ]
  },
  {
   "cell_type": "code",
   "execution_count": 175,
   "metadata": {},
   "outputs": [],
   "source": [
    "df=df[-300:]"
   ]
  },
  {
   "cell_type": "code",
   "execution_count": 174,
   "metadata": {},
   "outputs": [
    {
     "data": {
      "text/html": [
       "<div>\n",
       "<style scoped>\n",
       "    .dataframe tbody tr th:only-of-type {\n",
       "        vertical-align: middle;\n",
       "    }\n",
       "\n",
       "    .dataframe tbody tr th {\n",
       "        vertical-align: top;\n",
       "    }\n",
       "\n",
       "    .dataframe thead th {\n",
       "        text-align: right;\n",
       "    }\n",
       "</style>\n",
       "<table border=\"1\" class=\"dataframe\">\n",
       "  <thead>\n",
       "    <tr style=\"text-align: right;\">\n",
       "      <th></th>\n",
       "      <th>AMBIENT_TEMPERATURE</th>\n",
       "      <th>DISCHARGE_FLOW_COMMON</th>\n",
       "      <th>DISCHARGE_PRESSURE</th>\n",
       "      <th>DISCHARGE_TEMP_1</th>\n",
       "      <th>FLOW_1</th>\n",
       "      <th>FLOW_2</th>\n",
       "      <th>GROSS_LOAD</th>\n",
       "      <th>IB_SEAL_DRAIN_TEMP</th>\n",
       "      <th>MOTOR_CURRENT</th>\n",
       "      <th>MOTOR_IB_TEMP_1</th>\n",
       "      <th>...</th>\n",
       "      <th>MOTOR_STATOR_TEMP_2</th>\n",
       "      <th>MOTOR_STATOR_TEMP_3</th>\n",
       "      <th>OB_SEAL_DRAIN_TEMP</th>\n",
       "      <th>PUMP_DELTA_PRESS_CV</th>\n",
       "      <th>PUMP_IB_TEMP_1</th>\n",
       "      <th>PUMP_OB_TEMP_1</th>\n",
       "      <th>PUMP_OB_TEMP_2</th>\n",
       "      <th>SUCTION_PRESSURE_1</th>\n",
       "      <th>SUCTION_STRAINER_DP</th>\n",
       "      <th>SUCTION_TEMP_1</th>\n",
       "    </tr>\n",
       "  </thead>\n",
       "  <tbody>\n",
       "    <tr>\n",
       "      <th>2018-11-17 11:40:25.598140</th>\n",
       "      <td>21.357271</td>\n",
       "      <td>1533.540527</td>\n",
       "      <td>2.632145</td>\n",
       "      <td>185.209488</td>\n",
       "      <td>1521.362793</td>\n",
       "      <td>1522.381348</td>\n",
       "      <td>957.576904</td>\n",
       "      <td>42.540714</td>\n",
       "      <td>89.926727</td>\n",
       "      <td>54.71751</td>\n",
       "      <td>...</td>\n",
       "      <td>72.347862</td>\n",
       "      <td>70.831497</td>\n",
       "      <td>41.996529</td>\n",
       "      <td>1.319859</td>\n",
       "      <td>58.074635</td>\n",
       "      <td>68.767235</td>\n",
       "      <td>61.982544</td>\n",
       "      <td>1.312286</td>\n",
       "      <td>25.806059</td>\n",
       "      <td>185.209488</td>\n",
       "    </tr>\n",
       "  </tbody>\n",
       "</table>\n",
       "<p>1 rows × 22 columns</p>\n",
       "</div>"
      ],
      "text/plain": [
       "                            AMBIENT_TEMPERATURE  DISCHARGE_FLOW_COMMON  \\\n",
       "2018-11-17 11:40:25.598140            21.357271            1533.540527   \n",
       "\n",
       "                            DISCHARGE_PRESSURE  DISCHARGE_TEMP_1       FLOW_1  \\\n",
       "2018-11-17 11:40:25.598140            2.632145        185.209488  1521.362793   \n",
       "\n",
       "                                 FLOW_2  GROSS_LOAD  IB_SEAL_DRAIN_TEMP  \\\n",
       "2018-11-17 11:40:25.598140  1522.381348  957.576904           42.540714   \n",
       "\n",
       "                            MOTOR_CURRENT  MOTOR_IB_TEMP_1       ...        \\\n",
       "2018-11-17 11:40:25.598140      89.926727         54.71751       ...         \n",
       "\n",
       "                            MOTOR_STATOR_TEMP_2  MOTOR_STATOR_TEMP_3  \\\n",
       "2018-11-17 11:40:25.598140            72.347862            70.831497   \n",
       "\n",
       "                            OB_SEAL_DRAIN_TEMP  PUMP_DELTA_PRESS_CV  \\\n",
       "2018-11-17 11:40:25.598140           41.996529             1.319859   \n",
       "\n",
       "                            PUMP_IB_TEMP_1  PUMP_OB_TEMP_1  PUMP_OB_TEMP_2  \\\n",
       "2018-11-17 11:40:25.598140       58.074635       68.767235       61.982544   \n",
       "\n",
       "                            SUCTION_PRESSURE_1  SUCTION_STRAINER_DP  \\\n",
       "2018-11-17 11:40:25.598140            1.312286            25.806059   \n",
       "\n",
       "                            SUCTION_TEMP_1  \n",
       "2018-11-17 11:40:25.598140      185.209488  \n",
       "\n",
       "[1 rows x 22 columns]"
      ]
     },
     "execution_count": 174,
     "metadata": {},
     "output_type": "execute_result"
    }
   ],
   "source": [
    "df"
   ]
  },
  {
   "cell_type": "code",
   "execution_count": null,
   "metadata": {},
   "outputs": [],
   "source": []
  }
 ],
 "metadata": {
  "kernelspec": {
   "display_name": "Python 3",
   "language": "python",
   "name": "python3"
  },
  "language_info": {
   "codemirror_mode": {
    "name": "ipython",
    "version": 3
   },
   "file_extension": ".py",
   "mimetype": "text/x-python",
   "name": "python",
   "nbconvert_exporter": "python",
   "pygments_lexer": "ipython3",
   "version": "3.6.5"
  }
 },
 "nbformat": 4,
 "nbformat_minor": 2
}
