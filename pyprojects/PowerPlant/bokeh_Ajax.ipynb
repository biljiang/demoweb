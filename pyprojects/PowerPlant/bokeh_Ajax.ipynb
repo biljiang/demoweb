{
 "cells": [
  {
   "cell_type": "code",
   "execution_count": 144,
   "metadata": {},
   "outputs": [],
   "source": [
    "from bokeh.models import CustomJS, ColumnDataSource, Slider, CDSView, IndexFilter, HoverTool\n",
    "from bokeh.plotting import Figure, output_file, show\n",
    "import pandas as pd\n",
    "from bokeh.io import output_notebook\n",
    "from bokeh.models.sources import AjaxDataSource\n",
    "import json"
   ]
  },
  {
   "cell_type": "code",
   "execution_count": 150,
   "metadata": {},
   "outputs": [],
   "source": [
    "R=pd.read_csv('/home/techstar/demoweb/static/powerplant.csv',index_col=0)\n",
    "R.index=pd.to_datetime(R.index)"
   ]
  },
  {
   "cell_type": "code",
   "execution_count": 46,
   "metadata": {},
   "outputs": [
    {
     "data": {
      "text/html": [
       "\n",
       "    <div class=\"bk-root\">\n",
       "        <a href=\"https://bokeh.pydata.org\" target=\"_blank\" class=\"bk-logo bk-logo-small bk-logo-notebook\"></a>\n",
       "        <span id=\"67893e81-3d81-4cbd-8459-17e7fbd8177d\">Loading BokehJS ...</span>\n",
       "    </div>"
      ]
     },
     "metadata": {},
     "output_type": "display_data"
    },
    {
     "data": {
      "application/javascript": [
       "\n",
       "(function(root) {\n",
       "  function now() {\n",
       "    return new Date();\n",
       "  }\n",
       "\n",
       "  var force = true;\n",
       "\n",
       "  if (typeof (root._bokeh_onload_callbacks) === \"undefined\" || force === true) {\n",
       "    root._bokeh_onload_callbacks = [];\n",
       "    root._bokeh_is_loading = undefined;\n",
       "  }\n",
       "\n",
       "  var JS_MIME_TYPE = 'application/javascript';\n",
       "  var HTML_MIME_TYPE = 'text/html';\n",
       "  var EXEC_MIME_TYPE = 'application/vnd.bokehjs_exec.v0+json';\n",
       "  var CLASS_NAME = 'output_bokeh rendered_html';\n",
       "\n",
       "  /**\n",
       "   * Render data to the DOM node\n",
       "   */\n",
       "  function render(props, node) {\n",
       "    var script = document.createElement(\"script\");\n",
       "    node.appendChild(script);\n",
       "  }\n",
       "\n",
       "  /**\n",
       "   * Handle when an output is cleared or removed\n",
       "   */\n",
       "  function handleClearOutput(event, handle) {\n",
       "    var cell = handle.cell;\n",
       "\n",
       "    var id = cell.output_area._bokeh_element_id;\n",
       "    var server_id = cell.output_area._bokeh_server_id;\n",
       "    // Clean up Bokeh references\n",
       "    if (id !== undefined) {\n",
       "      Bokeh.index[id].model.document.clear();\n",
       "      delete Bokeh.index[id];\n",
       "    }\n",
       "\n",
       "    if (server_id !== undefined) {\n",
       "      // Clean up Bokeh references\n",
       "      var cmd = \"from bokeh.io.state import curstate; print(curstate().uuid_to_server['\" + server_id + \"'].get_sessions()[0].document.roots[0]._id)\";\n",
       "      cell.notebook.kernel.execute(cmd, {\n",
       "        iopub: {\n",
       "          output: function(msg) {\n",
       "            var element_id = msg.content.text.trim();\n",
       "            Bokeh.index[element_id].model.document.clear();\n",
       "            delete Bokeh.index[element_id];\n",
       "          }\n",
       "        }\n",
       "      });\n",
       "      // Destroy server and session\n",
       "      var cmd = \"import bokeh.io.notebook as ion; ion.destroy_server('\" + server_id + \"')\";\n",
       "      cell.notebook.kernel.execute(cmd);\n",
       "    }\n",
       "  }\n",
       "\n",
       "  /**\n",
       "   * Handle when a new output is added\n",
       "   */\n",
       "  function handleAddOutput(event, handle) {\n",
       "    var output_area = handle.output_area;\n",
       "    var output = handle.output;\n",
       "\n",
       "    // limit handleAddOutput to display_data with EXEC_MIME_TYPE content only\n",
       "    if ((output.output_type != \"display_data\") || (!output.data.hasOwnProperty(EXEC_MIME_TYPE))) {\n",
       "      return\n",
       "    }\n",
       "\n",
       "    var toinsert = output_area.element.find(\".\" + CLASS_NAME.split(' ')[0]);\n",
       "\n",
       "    if (output.metadata[EXEC_MIME_TYPE][\"id\"] !== undefined) {\n",
       "      toinsert[toinsert.length - 1].firstChild.textContent = output.data[JS_MIME_TYPE];\n",
       "      // store reference to embed id on output_area\n",
       "      output_area._bokeh_element_id = output.metadata[EXEC_MIME_TYPE][\"id\"];\n",
       "    }\n",
       "    if (output.metadata[EXEC_MIME_TYPE][\"server_id\"] !== undefined) {\n",
       "      var bk_div = document.createElement(\"div\");\n",
       "      bk_div.innerHTML = output.data[HTML_MIME_TYPE];\n",
       "      var script_attrs = bk_div.children[0].attributes;\n",
       "      for (var i = 0; i < script_attrs.length; i++) {\n",
       "        toinsert[toinsert.length - 1].firstChild.setAttribute(script_attrs[i].name, script_attrs[i].value);\n",
       "      }\n",
       "      // store reference to server id on output_area\n",
       "      output_area._bokeh_server_id = output.metadata[EXEC_MIME_TYPE][\"server_id\"];\n",
       "    }\n",
       "  }\n",
       "\n",
       "  function register_renderer(events, OutputArea) {\n",
       "\n",
       "    function append_mime(data, metadata, element) {\n",
       "      // create a DOM node to render to\n",
       "      var toinsert = this.create_output_subarea(\n",
       "        metadata,\n",
       "        CLASS_NAME,\n",
       "        EXEC_MIME_TYPE\n",
       "      );\n",
       "      this.keyboard_manager.register_events(toinsert);\n",
       "      // Render to node\n",
       "      var props = {data: data, metadata: metadata[EXEC_MIME_TYPE]};\n",
       "      render(props, toinsert[toinsert.length - 1]);\n",
       "      element.append(toinsert);\n",
       "      return toinsert\n",
       "    }\n",
       "\n",
       "    /* Handle when an output is cleared or removed */\n",
       "    events.on('clear_output.CodeCell', handleClearOutput);\n",
       "    events.on('delete.Cell', handleClearOutput);\n",
       "\n",
       "    /* Handle when a new output is added */\n",
       "    events.on('output_added.OutputArea', handleAddOutput);\n",
       "\n",
       "    /**\n",
       "     * Register the mime type and append_mime function with output_area\n",
       "     */\n",
       "    OutputArea.prototype.register_mime_type(EXEC_MIME_TYPE, append_mime, {\n",
       "      /* Is output safe? */\n",
       "      safe: true,\n",
       "      /* Index of renderer in `output_area.display_order` */\n",
       "      index: 0\n",
       "    });\n",
       "  }\n",
       "\n",
       "  // register the mime type if in Jupyter Notebook environment and previously unregistered\n",
       "  if (root.Jupyter !== undefined) {\n",
       "    var events = require('base/js/events');\n",
       "    var OutputArea = require('notebook/js/outputarea').OutputArea;\n",
       "\n",
       "    if (OutputArea.prototype.mime_types().indexOf(EXEC_MIME_TYPE) == -1) {\n",
       "      register_renderer(events, OutputArea);\n",
       "    }\n",
       "  }\n",
       "\n",
       "  \n",
       "  if (typeof (root._bokeh_timeout) === \"undefined\" || force === true) {\n",
       "    root._bokeh_timeout = Date.now() + 5000;\n",
       "    root._bokeh_failed_load = false;\n",
       "  }\n",
       "\n",
       "  var NB_LOAD_WARNING = {'data': {'text/html':\n",
       "     \"<div style='background-color: #fdd'>\\n\"+\n",
       "     \"<p>\\n\"+\n",
       "     \"BokehJS does not appear to have successfully loaded. If loading BokehJS from CDN, this \\n\"+\n",
       "     \"may be due to a slow or bad network connection. Possible fixes:\\n\"+\n",
       "     \"</p>\\n\"+\n",
       "     \"<ul>\\n\"+\n",
       "     \"<li>re-rerun `output_notebook()` to attempt to load from CDN again, or</li>\\n\"+\n",
       "     \"<li>use INLINE resources instead, as so:</li>\\n\"+\n",
       "     \"</ul>\\n\"+\n",
       "     \"<code>\\n\"+\n",
       "     \"from bokeh.resources import INLINE\\n\"+\n",
       "     \"output_notebook(resources=INLINE)\\n\"+\n",
       "     \"</code>\\n\"+\n",
       "     \"</div>\"}};\n",
       "\n",
       "  function display_loaded() {\n",
       "    var el = document.getElementById(\"67893e81-3d81-4cbd-8459-17e7fbd8177d\");\n",
       "    if (el != null) {\n",
       "      el.textContent = \"BokehJS is loading...\";\n",
       "    }\n",
       "    if (root.Bokeh !== undefined) {\n",
       "      if (el != null) {\n",
       "        el.textContent = \"BokehJS \" + root.Bokeh.version + \" successfully loaded.\";\n",
       "      }\n",
       "    } else if (Date.now() < root._bokeh_timeout) {\n",
       "      setTimeout(display_loaded, 100)\n",
       "    }\n",
       "  }\n",
       "\n",
       "\n",
       "  function run_callbacks() {\n",
       "    try {\n",
       "      root._bokeh_onload_callbacks.forEach(function(callback) { callback() });\n",
       "    }\n",
       "    finally {\n",
       "      delete root._bokeh_onload_callbacks\n",
       "    }\n",
       "    console.info(\"Bokeh: all callbacks have finished\");\n",
       "  }\n",
       "\n",
       "  function load_libs(js_urls, callback) {\n",
       "    root._bokeh_onload_callbacks.push(callback);\n",
       "    if (root._bokeh_is_loading > 0) {\n",
       "      console.log(\"Bokeh: BokehJS is being loaded, scheduling callback at\", now());\n",
       "      return null;\n",
       "    }\n",
       "    if (js_urls == null || js_urls.length === 0) {\n",
       "      run_callbacks();\n",
       "      return null;\n",
       "    }\n",
       "    console.log(\"Bokeh: BokehJS not loaded, scheduling load and callback at\", now());\n",
       "    root._bokeh_is_loading = js_urls.length;\n",
       "    for (var i = 0; i < js_urls.length; i++) {\n",
       "      var url = js_urls[i];\n",
       "      var s = document.createElement('script');\n",
       "      s.src = url;\n",
       "      s.async = false;\n",
       "      s.onreadystatechange = s.onload = function() {\n",
       "        root._bokeh_is_loading--;\n",
       "        if (root._bokeh_is_loading === 0) {\n",
       "          console.log(\"Bokeh: all BokehJS libraries loaded\");\n",
       "          run_callbacks()\n",
       "        }\n",
       "      };\n",
       "      s.onerror = function() {\n",
       "        console.warn(\"failed to load library \" + url);\n",
       "      };\n",
       "      console.log(\"Bokeh: injecting script tag for BokehJS library: \", url);\n",
       "      document.getElementsByTagName(\"head\")[0].appendChild(s);\n",
       "    }\n",
       "  };var element = document.getElementById(\"67893e81-3d81-4cbd-8459-17e7fbd8177d\");\n",
       "  if (element == null) {\n",
       "    console.log(\"Bokeh: ERROR: autoload.js configured with elementid '67893e81-3d81-4cbd-8459-17e7fbd8177d' but no matching script tag was found. \")\n",
       "    return false;\n",
       "  }\n",
       "\n",
       "  var js_urls = [\"https://cdn.pydata.org/bokeh/release/bokeh-0.12.16.min.js\", \"https://cdn.pydata.org/bokeh/release/bokeh-widgets-0.12.16.min.js\", \"https://cdn.pydata.org/bokeh/release/bokeh-tables-0.12.16.min.js\", \"https://cdn.pydata.org/bokeh/release/bokeh-gl-0.12.16.min.js\"];\n",
       "\n",
       "  var inline_js = [\n",
       "    function(Bokeh) {\n",
       "      Bokeh.set_log_level(\"info\");\n",
       "    },\n",
       "    \n",
       "    function(Bokeh) {\n",
       "      \n",
       "    },\n",
       "    function(Bokeh) {\n",
       "      console.log(\"Bokeh: injecting CSS: https://cdn.pydata.org/bokeh/release/bokeh-0.12.16.min.css\");\n",
       "      Bokeh.embed.inject_css(\"https://cdn.pydata.org/bokeh/release/bokeh-0.12.16.min.css\");\n",
       "      console.log(\"Bokeh: injecting CSS: https://cdn.pydata.org/bokeh/release/bokeh-widgets-0.12.16.min.css\");\n",
       "      Bokeh.embed.inject_css(\"https://cdn.pydata.org/bokeh/release/bokeh-widgets-0.12.16.min.css\");\n",
       "      console.log(\"Bokeh: injecting CSS: https://cdn.pydata.org/bokeh/release/bokeh-tables-0.12.16.min.css\");\n",
       "      Bokeh.embed.inject_css(\"https://cdn.pydata.org/bokeh/release/bokeh-tables-0.12.16.min.css\");\n",
       "    }\n",
       "  ];\n",
       "\n",
       "  function run_inline_js() {\n",
       "    \n",
       "    if ((root.Bokeh !== undefined) || (force === true)) {\n",
       "      for (var i = 0; i < inline_js.length; i++) {\n",
       "        inline_js[i].call(root, root.Bokeh);\n",
       "      }if (force === true) {\n",
       "        display_loaded();\n",
       "      }} else if (Date.now() < root._bokeh_timeout) {\n",
       "      setTimeout(run_inline_js, 100);\n",
       "    } else if (!root._bokeh_failed_load) {\n",
       "      console.log(\"Bokeh: BokehJS failed to load within specified timeout.\");\n",
       "      root._bokeh_failed_load = true;\n",
       "    } else if (force !== true) {\n",
       "      var cell = $(document.getElementById(\"67893e81-3d81-4cbd-8459-17e7fbd8177d\")).parents('.cell').data().cell;\n",
       "      cell.output_area.append_execute_result(NB_LOAD_WARNING)\n",
       "    }\n",
       "\n",
       "  }\n",
       "\n",
       "  if (root._bokeh_is_loading === 0) {\n",
       "    console.log(\"Bokeh: BokehJS loaded, going straight to plotting\");\n",
       "    run_inline_js();\n",
       "  } else {\n",
       "    load_libs(js_urls, function() {\n",
       "      console.log(\"Bokeh: BokehJS plotting callback run at\", now());\n",
       "      run_inline_js();\n",
       "    });\n",
       "  }\n",
       "}(window));"
      ],
      "application/vnd.bokehjs_load.v0+json": "\n(function(root) {\n  function now() {\n    return new Date();\n  }\n\n  var force = true;\n\n  if (typeof (root._bokeh_onload_callbacks) === \"undefined\" || force === true) {\n    root._bokeh_onload_callbacks = [];\n    root._bokeh_is_loading = undefined;\n  }\n\n  \n\n  \n  if (typeof (root._bokeh_timeout) === \"undefined\" || force === true) {\n    root._bokeh_timeout = Date.now() + 5000;\n    root._bokeh_failed_load = false;\n  }\n\n  var NB_LOAD_WARNING = {'data': {'text/html':\n     \"<div style='background-color: #fdd'>\\n\"+\n     \"<p>\\n\"+\n     \"BokehJS does not appear to have successfully loaded. If loading BokehJS from CDN, this \\n\"+\n     \"may be due to a slow or bad network connection. Possible fixes:\\n\"+\n     \"</p>\\n\"+\n     \"<ul>\\n\"+\n     \"<li>re-rerun `output_notebook()` to attempt to load from CDN again, or</li>\\n\"+\n     \"<li>use INLINE resources instead, as so:</li>\\n\"+\n     \"</ul>\\n\"+\n     \"<code>\\n\"+\n     \"from bokeh.resources import INLINE\\n\"+\n     \"output_notebook(resources=INLINE)\\n\"+\n     \"</code>\\n\"+\n     \"</div>\"}};\n\n  function display_loaded() {\n    var el = document.getElementById(\"67893e81-3d81-4cbd-8459-17e7fbd8177d\");\n    if (el != null) {\n      el.textContent = \"BokehJS is loading...\";\n    }\n    if (root.Bokeh !== undefined) {\n      if (el != null) {\n        el.textContent = \"BokehJS \" + root.Bokeh.version + \" successfully loaded.\";\n      }\n    } else if (Date.now() < root._bokeh_timeout) {\n      setTimeout(display_loaded, 100)\n    }\n  }\n\n\n  function run_callbacks() {\n    try {\n      root._bokeh_onload_callbacks.forEach(function(callback) { callback() });\n    }\n    finally {\n      delete root._bokeh_onload_callbacks\n    }\n    console.info(\"Bokeh: all callbacks have finished\");\n  }\n\n  function load_libs(js_urls, callback) {\n    root._bokeh_onload_callbacks.push(callback);\n    if (root._bokeh_is_loading > 0) {\n      console.log(\"Bokeh: BokehJS is being loaded, scheduling callback at\", now());\n      return null;\n    }\n    if (js_urls == null || js_urls.length === 0) {\n      run_callbacks();\n      return null;\n    }\n    console.log(\"Bokeh: BokehJS not loaded, scheduling load and callback at\", now());\n    root._bokeh_is_loading = js_urls.length;\n    for (var i = 0; i < js_urls.length; i++) {\n      var url = js_urls[i];\n      var s = document.createElement('script');\n      s.src = url;\n      s.async = false;\n      s.onreadystatechange = s.onload = function() {\n        root._bokeh_is_loading--;\n        if (root._bokeh_is_loading === 0) {\n          console.log(\"Bokeh: all BokehJS libraries loaded\");\n          run_callbacks()\n        }\n      };\n      s.onerror = function() {\n        console.warn(\"failed to load library \" + url);\n      };\n      console.log(\"Bokeh: injecting script tag for BokehJS library: \", url);\n      document.getElementsByTagName(\"head\")[0].appendChild(s);\n    }\n  };var element = document.getElementById(\"67893e81-3d81-4cbd-8459-17e7fbd8177d\");\n  if (element == null) {\n    console.log(\"Bokeh: ERROR: autoload.js configured with elementid '67893e81-3d81-4cbd-8459-17e7fbd8177d' but no matching script tag was found. \")\n    return false;\n  }\n\n  var js_urls = [\"https://cdn.pydata.org/bokeh/release/bokeh-0.12.16.min.js\", \"https://cdn.pydata.org/bokeh/release/bokeh-widgets-0.12.16.min.js\", \"https://cdn.pydata.org/bokeh/release/bokeh-tables-0.12.16.min.js\", \"https://cdn.pydata.org/bokeh/release/bokeh-gl-0.12.16.min.js\"];\n\n  var inline_js = [\n    function(Bokeh) {\n      Bokeh.set_log_level(\"info\");\n    },\n    \n    function(Bokeh) {\n      \n    },\n    function(Bokeh) {\n      console.log(\"Bokeh: injecting CSS: https://cdn.pydata.org/bokeh/release/bokeh-0.12.16.min.css\");\n      Bokeh.embed.inject_css(\"https://cdn.pydata.org/bokeh/release/bokeh-0.12.16.min.css\");\n      console.log(\"Bokeh: injecting CSS: https://cdn.pydata.org/bokeh/release/bokeh-widgets-0.12.16.min.css\");\n      Bokeh.embed.inject_css(\"https://cdn.pydata.org/bokeh/release/bokeh-widgets-0.12.16.min.css\");\n      console.log(\"Bokeh: injecting CSS: https://cdn.pydata.org/bokeh/release/bokeh-tables-0.12.16.min.css\");\n      Bokeh.embed.inject_css(\"https://cdn.pydata.org/bokeh/release/bokeh-tables-0.12.16.min.css\");\n    }\n  ];\n\n  function run_inline_js() {\n    \n    if ((root.Bokeh !== undefined) || (force === true)) {\n      for (var i = 0; i < inline_js.length; i++) {\n        inline_js[i].call(root, root.Bokeh);\n      }if (force === true) {\n        display_loaded();\n      }} else if (Date.now() < root._bokeh_timeout) {\n      setTimeout(run_inline_js, 100);\n    } else if (!root._bokeh_failed_load) {\n      console.log(\"Bokeh: BokehJS failed to load within specified timeout.\");\n      root._bokeh_failed_load = true;\n    } else if (force !== true) {\n      var cell = $(document.getElementById(\"67893e81-3d81-4cbd-8459-17e7fbd8177d\")).parents('.cell').data().cell;\n      cell.output_area.append_execute_result(NB_LOAD_WARNING)\n    }\n\n  }\n\n  if (root._bokeh_is_loading === 0) {\n    console.log(\"Bokeh: BokehJS loaded, going straight to plotting\");\n    run_inline_js();\n  } else {\n    load_libs(js_urls, function() {\n      console.log(\"Bokeh: BokehJS plotting callback run at\", now());\n      run_inline_js();\n    });\n  }\n}(window));"
     },
     "metadata": {},
     "output_type": "display_data"
    }
   ],
   "source": [
    "output_notebook()"
   ]
  },
  {
   "cell_type": "code",
   "execution_count": 179,
   "metadata": {},
   "outputs": [
    {
     "data": {
      "text/html": [
       "\n",
       "<div class=\"bk-root\">\n",
       "    <div class=\"bk-plotdiv\" id=\"21005d23-a604-4ecd-b2e2-cdc7add98192\"></div>\n",
       "</div>"
      ]
     },
     "metadata": {},
     "output_type": "display_data"
    },
    {
     "data": {
      "application/javascript": [
       "(function(root) {\n",
       "  function embed_document(root) {\n",
       "    \n",
       "  var docs_json = {\"db0c9811-59f8-49dd-aeed-5b426ed2721d\":{\"roots\":{\"references\":[{\"attributes\":{\"data_source\":{\"id\":\"15e01b37-846a-47ec-aaa0-2344b3c525b6\",\"type\":\"ColumnDataSource\"},\"glyph\":{\"id\":\"936c5c4a-cf85-4fe7-878d-d6bf6436a5d1\",\"type\":\"Line\"},\"hover_glyph\":null,\"muted_glyph\":null,\"nonselection_glyph\":{\"id\":\"5d96845c-dc97-460c-b14e-49fd8a11a6ac\",\"type\":\"Line\"},\"selection_glyph\":null,\"view\":{\"id\":\"9f2b9d78-1c91-466e-bb6b-58084499beac\",\"type\":\"CDSView\"}},\"id\":\"f8d3743d-4304-4b6a-8e86-6a722f422b9a\",\"type\":\"GlyphRenderer\"},{\"attributes\":{\"source\":{\"id\":\"15e01b37-846a-47ec-aaa0-2344b3c525b6\",\"type\":\"ColumnDataSource\"}},\"id\":\"9f2b9d78-1c91-466e-bb6b-58084499beac\",\"type\":\"CDSView\"},{\"attributes\":{\"line_alpha\":0.1,\"line_color\":\"#1f77b4\",\"line_width\":2,\"x\":{\"field\":\"time\"},\"y\":{\"field\":\"AMBIENT_TEMPERATURE\"}},\"id\":\"5d96845c-dc97-460c-b14e-49fd8a11a6ac\",\"type\":\"Line\"},{\"attributes\":{\"base\":24,\"mantissas\":[1,2,4,6,8,12],\"max_interval\":43200000.0,\"min_interval\":3600000.0,\"num_minor_ticks\":0},\"id\":\"681e16b3-3c52-4df2-9761-40e8a9e21f18\",\"type\":\"AdaptiveTicker\"},{\"attributes\":{\"bottom_units\":\"screen\",\"fill_alpha\":{\"value\":0.5},\"fill_color\":{\"value\":\"lightgrey\"},\"left_units\":\"screen\",\"level\":\"overlay\",\"line_alpha\":{\"value\":1.0},\"line_color\":{\"value\":\"black\"},\"line_dash\":[4,4],\"line_width\":{\"value\":2},\"plot\":null,\"render_mode\":\"css\",\"right_units\":\"screen\",\"top_units\":\"screen\"},\"id\":\"e45f1613-f653-473a-a5ce-f3800ed150de\",\"type\":\"BoxAnnotation\"},{\"attributes\":{},\"id\":\"06b587dc-4c6d-4603-b21e-f4e583ba7092\",\"type\":\"PanTool\"},{\"attributes\":{\"base\":60,\"mantissas\":[1,2,5,10,15,20,30],\"max_interval\":1800000.0,\"min_interval\":1000.0,\"num_minor_ticks\":0},\"id\":\"73cb7f2b-6baf-4a01-923c-70c948e2c2fc\",\"type\":\"AdaptiveTicker\"},{\"attributes\":{},\"id\":\"98258be6-6113-4c56-a8ac-84000bc2e52c\",\"type\":\"WheelZoomTool\"},{\"attributes\":{},\"id\":\"4f7fe48f-e31e-4fd6-8420-c26a42e44d2c\",\"type\":\"BasicTicker\"},{\"attributes\":{\"overlay\":{\"id\":\"e45f1613-f653-473a-a5ce-f3800ed150de\",\"type\":\"BoxAnnotation\"}},\"id\":\"d9466a55-fa58-421c-aa5b-5d8208764833\",\"type\":\"BoxZoomTool\"},{\"attributes\":{},\"id\":\"7aad2a89-0fd5-4767-ad85-eb4920fca3f0\",\"type\":\"BasicTickFormatter\"},{\"attributes\":{},\"id\":\"f431d7ff-7dc4-4dd1-be9d-d1af4deb8a18\",\"type\":\"SaveTool\"},{\"attributes\":{\"mantissas\":[1,2,5],\"max_interval\":500.0,\"num_minor_ticks\":0},\"id\":\"638a85a5-5b83-4143-b974-189f9c4b76b4\",\"type\":\"AdaptiveTicker\"},{\"attributes\":{},\"id\":\"075aeb84-77d9-48b0-92ea-355c5b1b1c9e\",\"type\":\"ResetTool\"},{\"attributes\":{\"formatter\":{\"id\":\"7aad2a89-0fd5-4767-ad85-eb4920fca3f0\",\"type\":\"BasicTickFormatter\"},\"plot\":{\"id\":\"2d3995eb-f644-421d-8a15-ccd625dd564e\",\"subtype\":\"Figure\",\"type\":\"Plot\"},\"ticker\":{\"id\":\"4f7fe48f-e31e-4fd6-8420-c26a42e44d2c\",\"type\":\"BasicTicker\"}},\"id\":\"66d3ed7e-2d3f-48cd-8847-87df68d35e35\",\"type\":\"LinearAxis\"},{\"attributes\":{},\"id\":\"cc958061-ccee-4c58-b6fe-290725373f7b\",\"type\":\"HelpTool\"},{\"attributes\":{\"months\":[0,4,8]},\"id\":\"f485baf0-8579-4284-8e37-7fc77bb6d869\",\"type\":\"MonthsTicker\"},{\"attributes\":{\"days\":[1,2,3,4,5,6,7,8,9,10,11,12,13,14,15,16,17,18,19,20,21,22,23,24,25,26,27,28,29,30,31]},\"id\":\"c5d056da-c723-4a2b-a963-b77c3bf150ee\",\"type\":\"DaysTicker\"},{\"attributes\":{\"plot\":{\"id\":\"2d3995eb-f644-421d-8a15-ccd625dd564e\",\"subtype\":\"Figure\",\"type\":\"Plot\"},\"ticker\":{\"id\":\"4e63593a-6cda-4040-af6e-9217a1ae51af\",\"type\":\"DatetimeTicker\"}},\"id\":\"ea42b302-c56f-4c61-85c7-8cdb7cc93066\",\"type\":\"Grid\"},{\"attributes\":{},\"id\":\"c5964691-384a-4991-b13f-0748a393089b\",\"type\":\"Selection\"},{\"attributes\":{\"callback\":null,\"data\":{\"AMBIENT_TEMPERATURE\":[28.54973221,28.18845177,27.85299873,27.36281586,26.89848137,26.51158333,26.02157593,25.60900879,25.27381516,24.93867493,24.57778549,24.47467804,23.18614006,22.12992096,22.02688789,22.23295403,23.26343536,24.39735603,25.32538986,25.45431137,25.48008156,24.16539764,23.05732727,22.46478081,21.76933479,21.4087677,20.94528008,20.01845932,19.40070724,19.27203941,18.88602257,18.57723808,18.29421425,17.95977211,17.52246857,17.21380997,17.16237831,17.59963417,17.75396919,17.83113861,18.11412239,18.16558647,17.72825813,17.39385414,16.90517998,16.93090057,17.23953629,17.934040070000005,18.5515213,18.62870979,18.44859886,18.21703339,18.16558647,18.16558647,17.95977211,17.83113861,17.67679977,17.59963417,17.39385414,17.2652607,17.34242058,18.19130135,19.63235664,20.84228516,21.8980999,23.05732727,24.44889641,25.48008156,26.02157593,26.30525208,26.25368309,26.02157593,25.66057014,25.24804688,24.65511131,24.1138382,23.52112579,22.98001671,22.43901443,21.97536469,21.43452454,20.97101402,20.89377213,21.12552261,21.69205475,23.10884666,24.08806229,24.83555603,25.53166008,26.48578835,27.07904816,27.44020462,27.56920815,27.54340363,27.46601105,27.07904816,26.53738213,25.97000885,25.22226143,24.78400803],\"DISCHARGE_FLOW_COMMON\":[1346.673584,1230.918579,1243.824585,1321.627197,1322.602051,1361.87207,1295.726196,1276.663574,1382.328125,1370.459595,1377.951416,1404.463989,1487.21521,1452.8811039999998,1462.506714,1368.796875,1453.057861,1519.620483,1348.7613529999999,1373.929932,1466.67749,1459.211914,1445.7438960000002,1427.852905,1264.003052,1211.93335,1261.350464,1455.893555,1464.526611,1231.767944,1378.0119630000002,1447.9941410000001,1399.245117,1427.005249,1407.192993,1434.05896,1413.465698,1394.079834,1231.083252,1193.164917,1275.367554,987.3380737,1204.8045650000001,1208.617432,1199.4997560000002,1162.458008,1080.279053,1013.3114619999999,1040.253784,1037.096558,1111.7692869999998,1071.018433,1007.051208,1123.4686279999999,1059.160034,1044.932739,1046.6665039999998,1049.353638,1092.5897220000002,1076.646118,1525.737305,884.2768555,875.4700316999999,1079.549927,995.0317382999999,986.9858398,994.9743042000001,1146.207642,1140.737549,1003.184082,928.9210814999999,916.8971558000001,918.6038818,925.4945068,930.5899658,920.3432617000001,996.0349120999999,920.3543091,927.3393555,923.9750977,920.5287476,1152.76416,1224.196167,1239.51001,1340.871948,1454.581299,1543.0974119999998,1391.563965,1441.3748779999999,1506.188843,1503.887329,1518.337158,1508.94165,1391.565186,1339.926514,1446.973145,1436.473145,1495.3378910000001,1058.397827,1065.430542],\"DISCHARGE_PRESSURE\":[2.5979483130000003,2.590620518,2.580850363,2.5930631159999997,2.5930631159999997,2.612603903,2.588177919,2.588177919,2.605276346,2.5979483130000003,2.602833748,2.602833748,2.6174891,2.6174891,2.612603903,2.610161304,2.615046501,2.615046501,2.60039115,2.5930631159999997,2.612603903,2.615046501,2.612603903,2.607718706,2.595505714,2.566194534,2.563752174,2.578407526,2.607718706,2.590620518,2.563752174,2.563752174,2.60039115,2.578407526,2.588177919,2.615046501,2.627259731,2.6199316980000003,2.578407526,2.5832929609999997,2.595505714,2.505129576,2.580850363,2.578407526,2.5832929609999997,2.590620518,2.5295555590000003,2.5246703619999997,2.534440756,2.5417687890000003,2.566194534,2.544211149,2.5295555590000003,2.5515389440000003,2.556424141,2.531998158,2.5246703619999997,2.534440756,2.546653748,2.544211149,2.615046501,2.448949814,2.446507215,2.563752174,2.512457371,2.514899969,2.512457371,2.5613095759999998,2.5613095759999998,2.534440756,2.475818634,2.473375797,2.480703592,2.478261232,2.478261232,2.475818634,2.507572174,2.468490601,2.468490601,2.470933199,2.475818634,2.5197854040000003,2.573522329,2.5613095759999998,2.5759649280000003,2.607718706,2.602833748,2.5930631159999997,2.568637133,2.602833748,2.605276346,2.60039115,2.607718706,2.5979483130000003,2.5979483130000003,2.585735321,2.602833748,2.610161304,2.5515389440000003,2.539326191],\"DISCHARGE_TEMP_1\":[179.2309418,176.3404083,175.9624023,178.2041168,178.5013428,180.4474182,177.63677980000003,177.0425415,180.4474182,179.7174835,180.285202,180.71777340000003,183.179306,182.5840454,182.5569916,180.3663025,182.39468380000002,183.855896,179.5553131,179.6363983,182.63815309999998,182.66520690000002,182.1782532,181.610199,177.55574040000002,173.91116330000003,175.93542480000002,180.5285339,182.66520690000002,176.98855590000002,177.1235657,178.28517150000002,180.33924869999998,180.1500244,180.1500244,181.9618378,181.7724762,181.1234131,174.15399169999998,174.69371030000002,177.1506042,165.530838,174.9365997,175.0445862,175.0445862,174.8016357,169.0042419,167.2805176,168.6809845,168.8964844,171.7533417,169.81256100000002,167.2805176,171.0253906,169.8394775,168.4385071,168.0345154,168.6270905,170.3246002,170.2437439,183.855896,161.2010651,160.6904755,172.83204650000002,166.095993,166.2305756,166.2036896,172.42749019999997,172.3735504,168.6270905,163.19039919999997,163.1366425,163.19039919999997,163.19039919999997,163.2710571,163.1635132,164.2124481,163.1366425,162.92150880000003,162.78706359999998,162.78706359999998,168.41160580000002,174.8826447,174.8286591,177.55574040000002,181.93476869999998,183.7205505,180.1770325,179.87966919999997,182.88166809999998,183.1251678,183.07109069999998,183.26048280000003,180.1770325,178.90664669999998,180.8529816,181.66430659999997,183.39581299999998,171.18713380000003,169.24668880000002],\"FLOW_1\":[1337.363525,1223.258789,1237.508789,1312.12915,1313.114014,1350.371582,1288.461792,1264.342651,1374.407593,1354.419556,1368.86499,1395.555176,1477.780396,1441.057495,1452.903809,1359.650024,1446.619751,1512.450928,1337.135864,1364.809814,1458.169922,1451.732544,1434.940186,1416.904663,1251.564331,1201.521362,1255.122681,1451.602539,1454.938477,1222.839111,1368.89502,1438.244751,1386.928467,1422.625366,1394.9438480000001,1428.621582,1404.625854,1387.357056,1218.2617189999999,1185.247314,1266.747681,972.7867432,1195.654419,1199.497559,1187.671265,1151.609009,1071.4746089999999,1003.902649,1028.036743,1027.921265,1101.813354,1062.1448970000001,997.583374,1109.357788,1048.68335,1038.868164,1036.0432130000002,1041.8009029999998,1082.442139,1066.345703,1510.394775,871.5840454,866.3255615,1070.7753910000001,980.6032104000001,977.312561,982.1602173,1140.704956,1129.651489,992.1022949,911.6597289999999,906.4418945,908.1688232000001,913.4005127,918.5641479000001,909.9279175,988.0370482999999,911.6829833999999,920.4598389,915.3347167999999,910.1112061000001,1140.364014,1213.8999019999999,1229.341675,1335.025269,1442.7613529999999,1528.942139,1381.436768,1433.7753910000001,1499.982788,1495.596924,1512.182495,1501.715332,1380.30835,1329.391357,1439.412476,1426.684082,1485.9573970000001,1046.424683,1059.4882810000001],\"FLOW_2\":[1337.363525,1225.817383,1238.774536,1313.3201900000001,1315.492432,1351.526001,1290.887817,1266.8164060000001,1375.54187,1356.722534,1371.142334,1397.78772,1478.8317869999998,1442.1363529999999,1455.0432130000002,1360.7967529999999,1448.769043,1513.477295,1338.3029789999998,1365.953125,1460.301514,1452.803345,1437.1073,1419.101074,1254.06189,1205.436401,1258.8630369999998,1451.602539,1457.074707,1224.118774,1370.038086,1439.331299,1386.928467,1423.721436,1396.061768,1429.710693,1405.734009,1388.479736,1220.836792,1186.570557,1266.747681,977.6613159,1198.275757,1203.414551,1188.991455,1155.689331,1074.41748,1005.47699,1031.104614,1029.456177,1103.241089,1063.6289060000001,1002.328552,1112.194336,1050.186401,1041.904907,1040.609375,1044.828491,1085.351074,1069.298828,1507.307617,873.4085693,868.1621704,1072.242798,983.8278809000001,982.1611328,986.9849854,1143.459595,1133.821533,996.8668213,915.1380005000001,916.8971558000001,909.9163818,915.1380005000001,922.0161742999999,913.4129639,991.2439575,915.1613159,922.1845093000001,918.8006592,911.8557739,1143.1313480000001,1216.4823,1231.891479,1336.196533,1443.8398439999999,1528.942139,1381.436768,1435.950806,1499.982788,1498.711182,1511.154297,1502.7498779999999,1380.30835,1329.391357,1440.494995,1427.7751460000002,1488.0471189999998,1049.430786,1062.463623],\"GROSS_LOAD\":[825.6461182,758.4814453,763.2789307,816.0512085,813.6524658,842.4373168999999,801.6587524,787.2663574,857.6293945,848.0343627999998,855.2305908,869.6230469000001,921.5957642000001,898.407959,910.4016113,849.6335449,899.2075195,938.3869018999999,824.8466187000001,840.8381347999999,904.8025513,902.4058228,890.4121094000001,881.6166992000001,781.6693115,741.6882935,771.2747192,880.8171997000002,901.6062622000002,759.2810059,826.4457397000001,878.418457,864.026001,871.2222289999999,866.4247437000001,892.8109131000001,885.6146851,872.8214111,769.6755371,748.8864746,794.4625244,598.5654907,751.2833862000001,746.487793,739.2915649,727.2978516,652.9368896000001,619.3545532,639.3440552000001,640.1436157,689.7175903,658.5339355000001,618.5549927000001,691.3167725,660.9326782,639.3440552000001,623.352478,643.34198,671.3272705,664.1310425,937.5873412999999,519.4070435,520.206604,649.7386475,598.5654907,599.3650512999999,598.5654907,696.9138184,696.1141968,605.7617187999999,551.3902588,551.3902588,550.5906982000001,551.3902588,553.7890014999999,551.3902588,600.9642334,551.3902588,550.5906982000001,550.5906982000001,550.5906982000001,690.5171508999999,748.0869751,742.4898071,815.2516479,897.6083374,941.5852661,850.4331664999999,859.2285767000001,914.3995361,923.9944457999999,924.7940674,922.3953857000001,848.8339844000001,822.447876,876.0196533,882.4163207999999,917.5978393999999,644.9411011,647.3398437999999],\"IB_SEAL_DRAIN_TEMP\":[43.83675385,43.370121000000005,43.03315735,42.90357208,42.98132706,42.92947769,42.17791367,41.99652863,42.20383453,41.34880829,41.27109146,41.63378906,41.34880829,41.11566544,40.39041519,40.46810913,41.47834778,42.25567245,42.64437866,42.43707275,43.00723267,42.69622421,42.22975159,41.84107208,41.11566544,40.31272125,40.51990128,40.70120621,41.29700089,40.41630173,39.74300385,39.66532516,40.23501205,40.15732574,40.05373383,39.95014572,39.76888275,39.84658432,38.70740128,38.68151093,38.70740128,38.96627045,38.08620453,38.13795853,38.47442627,38.16384506,38.62974929999999,38.96627045,38.81094742,38.75916672,38.78505707,38.81094742,38.96627045,38.65562057,38.50031662,38.47442627,38.47442627,38.29324341,38.06031799,38.18971252,39.06982422,40.75302124,41.58198166,39.84658432,40.77890778,41.32291412,41.81515503,41.50426102,42.02244568,42.51481247,43.18867111,43.05908203,42.92947769,42.79989624,42.67030334,42.35931015,41.55606842,41.76334381,41.47834778,41.29700089,41.11566544,39.95014572,40.0278511,40.33860779,40.96024704,42.25567245,42.92947769,42.82580185,42.82580185,43.70714188,44.19975281,44.25160599,43.78491211,42.92947769,42.64437866,42.64437866,42.307491299999995,42.10017776,41.08975601,40.26091385],\"MOTOR_CURRENT\":[85.53003693,81.71958923,82.5989151,84.94380951,84.65071106,85.82315826,83.7713623,82.89203644,86.99560547,86.40937042,86.99560547,87.28871918,90.21982574,88.16804504,88.75426483,86.70248413,88.16804504,90.21982574,85.38348389,85.82315826,88.75426483,88.16804504,87.87493134,87.58181763,82.5989151,81.4264679,82.30581665,89.63361359,90.21982574,82.01270294,87.28871918,89.92672729,87.58181763,88.46116638,87.28871918,88.16804504,87.28871918,86.70248413,81.71958923,79.96090698,82.89203644,72.1934433,80.25402832,79.96090698,79.37469482,78.78846741,75.71080017,73.07279205,74.24523926,74.24523926,77.17636108,75.41767883,73.36590576,77.46945953,75.41767883,74.83145142,74.83145142,75.12456512,76.88324738,76.29701233,92.85783386,68.08988953,68.08988953,76.00389862,72.1934433,72.1934433,72.1934433,78.49536133,77.90913391,72.77967834,69.84854889,69.55545044,69.55545044,70.14167023,70.14167023,69.84854889,72.77967834,70.14167023,70.43478394,69.84854889,69.84854889,79.08158112,82.01270294,82.5989151,86.11627197,89.04737854,91.39227295,86.40937042,87.87493134,89.34049225,89.34049225,89.63361359,89.34049225,86.11627197,84.65071106,87.87493134,88.16804504,89.34049225,74.24523926,75.41767883],\"MOTOR_IB_TEMP_1\":[59.84564972,59.76749802,58.93397903,57.91841888,57.63203049,57.13741684,56.46070099,55.65403748,55.44588852,54.35337448,53.9892807,53.93728256,52.68927002,52.32536316,51.93549728,51.96149445,52.81925964,53.78124237,55.34182358,55.73208618,56.33059311,56.09637451,55.86219406,55.94025421,55.315822600000004,54.19733429,53.93728256,53.85924911,54.56145096,54.24934006,52.79325485,52.32536316,52.81925964,52.89724350000001,52.79325485,52.63729095,52.53331375,52.32536316,51.57167053,51.15590668,50.81814957,50.50639343,49.07792282,49.31162262,49.80506897,49.77909088,49.62326813,49.44147491,49.33759689,49.18179321,48.97405624,48.94808578,48.63652039,48.45478439,48.55861664,48.35093307,47.96154022,47.62410736,47.67601013,47.93557358,48.87018967,49.93494415,48.97405624,49.54536057,50.8441391,51.70161057,52.58529282,53.26121521,54.71751022,55.41988754,55.02965927,54.5094223,54.04128647,53.59922409,52.97523117,52.35136032,51.77957153,51.59766388,50.9480629,50.42846298,50.01286316,49.83104706,50.89609146,51.90950394,52.81925964,54.58746719,56.33059311,57.86633301,58.36105728,59.27256393,60.13222885,60.54909897,60.36671066,59.03815842,57.76218796,56.77301788,56.59083176,56.12240219,54.87356949,52.40333557],\"MOTOR_OB_TEMP_1\":[42.28157043,42.69622421,41.97063446,41.11566544,40.54580688,39.74300385,39.09571838,38.68151093,38.37090683,37.15461349,37.15461349,37.15461349,35.52494431,34.878479,34.77505493,34.82677460000001,36.45608139,37.07699585,38.37090683,38.81094742,39.35461426,38.37090683,38.00854492,38.39677811,37.74975204,37.36159515,37.23223114,36.89587021,36.94762421,36.45608139,35.73184586,35.31807709,35.47323227,35.44736862,35.13706589,34.90434265,34.878479,34.82677460000001,34.51651382,34.46481705,34.23213577,33.92195129,33.19826508,33.17241669,33.456707,33.32747269,33.61177063,33.92195129,33.94778442,33.58591843,33.27579498,33.17241669,33.06904602,32.91400146,32.73312378,32.57807159,32.37136841,32.06135559,32.08719635,32.293861390000004,32.73312378,33.71516037,34.38726044,35.18877411,36.35260773,37.07699585,38.16384506,38.78505707,39.71710587,40.10553741,40.0278511,39.74300385,39.48405838,39.38051224,38.70740128,38.00854492,37.3098526,36.76652527,36.1456871,35.65426254,35.60252762000001,35.26634979,35.52494431,36.01635361,37.07699585,38.29324341,39.22515488,40.49401474,41.29700089,41.86698532,42.307491299999995,42.592556,42.3852272,41.50426102,40.67531967,40.07963562,39.22515488,38.39677811,37.33573532,36.17153931],\"MOTOR_STATOR_TEMP_1\":[78.60369109999999,77.55587769,76.48218536,76.40364838,76.53456879,76.58690643,74.57139587,73.28940582,74.85921478,73.52482605,73.62948608,73.91726685,73.31555176,72.42630768,72.06022644,71.61574554,73.36787415,75.1733017,75.3041687,74.83305359,76.87493896,76.56072998,75.88004303,75.93237305,73.42021179,70.90991211,71.82489014,73.23708344,75.43501282,72.50476074,70.09971619,70.88378906,72.63552856,72.58321381,72.190979,72.24326324,72.06022644,71.48501587,67.53973389,67.67030334,68.06202698,64.59039307,64.79911041,65.66021729,66.31271362,66.07778931,64.17298889,63.49485397,63.83390045,63.67741776,64.19908142,63.7295723,62.45180893,63.49485397,63.54700089,62.71253586,62.08682632,61.87827301,62.66039276,62.89505768,69.39421082,62.66039276,61.14846802,65.06002045,65.26877594,66.05168152,67.01753998,69.49871826,71.27587891,70.70080566,68.34931946,67.80088043,67.33085632,66.80867767,66.02559662,65.37316132,65.19049835,64.9295578,63.96432877,63.31229401,62.92113495,64.38168335,68.06202698,69.28971863,71.22360229,75.3041687,77.94876099,78.36791229,78.34169006,80.54307556,81.69671631,82.01145172,81.74917603,79.10153198,77.13682556,76.87493896,76.87493896,76.95349884,70.96220398,66.99142456],\"MOTOR_STATOR_TEMP_2\":[75.80147552,74.70220184,73.83873749,73.62948608,73.57715607,73.62948608,71.56344604,70.43944549999999,71.95562744,70.43944549999999,70.49172974,70.70080566,70.04743958,69.39421082,68.74110413,68.42767334,70.36104584,72.08638,72.34786224,71.8510437,73.7341156,73.31555176,72.76630402,72.89704132,70.41333008,68.14037323,69.08071136,70.30878448,72.190979,69.44647217,67.3830719,67.87921906,69.55098724,69.39421082,69.13295746,69.15908051,68.89785004,68.32319641,64.72084808,64.85128784,65.24267578,62.16502762,62.08682632,62.97327805,63.49485397,63.31229401,61.74795151,61.17454147,61.30483627,61.25272369,61.56547546,61.12240219,60.00195313,60.96604156,60.91391373,60.23644638,59.63724136,59.42884445,60.13222885,60.41883087,66.33879852,60.34066391,58.96001434,62.71253586,62.92113495,63.7295723,64.69475555,67.01753998,68.84558868,68.34931946,66.18218994,65.50362396,65.11220551,64.64256287,63.886081700000005,63.23406982,62.84291458,62.58218002,61.61761475,61.09635544,60.70545959,62.03467560000001,65.4514389,66.54763031,68.34931946,72.37402344,74.99007416,75.35649109,75.33032990000001,77.58205414,78.52510071,78.91809082,78.65610504,76.03711700000001,74.07423401,73.7341156,73.83873749,73.7341156,68.06202698,64.35561371],\"MOTOR_STATOR_TEMP_3\":[74.12653351,73.10629272,72.21710968,72.06022644,72.00791931,72.03407288,69.94293213,68.81948853,70.28264618,68.81948853,68.87171936,69.13295746,68.45379639,67.72251892,67.22641754,66.86090851,68.79335785,70.46559143,70.72694397,70.33490753,72.190979,71.69417572,71.06676483,71.24974823,68.79335785,66.67816162,67.48751831,68.66274261,70.59627533,67.74864197,65.79069519,66.44321442,67.85309601,67.74864197,67.53973389,67.5658493,67.27862549,66.73036194,63.23406982,63.41661453,63.70350647,60.62728882,60.75756454,61.59154129,62.03467560000001,61.87827301,60.34066391,59.76749802,59.89774323,59.74144363,60.15829086,59.71538544,58.67355347,59.58514786,59.5070076,58.8037529,58.30896378,57.99652481,58.64750671,59.03815842,64.82519531,58.93397903,57.73616791,61.27878952,61.53942489999999,62.32144547,63.39052963,65.58190918,67.3830719,66.93921661,64.82519531,64.12082672,63.75566101,63.31229401,62.55610275,61.77400589,61.53942489999999,61.20058823,60.28854752,59.81959152,59.40280914,60.62728882,64.01648712,65.08612061,66.86090851,70.72694397,73.18475342,73.7341156,73.68177795,75.85384369,76.82255554,77.16300964,76.92733002,74.41436005,72.40015411,72.16481781,72.21710968,72.11251068,66.44321442,62.86897278],\"OB_SEAL_DRAIN_TEMP\":[43.11091232,42.64437866,42.35931015,42.43707275,42.35931015,42.3852272,41.50426102,41.16746521,41.6078949,40.77890778,40.75302124,41.14157486,41.11566544,40.75302124,39.97604752,40.00194931,40.93433762,42.02244568,42.04836655,41.84107208,42.69622421,42.33340836,41.84107208,41.37471771,40.46810913,39.69120789,39.79478455,40.00194931,40.77890778,39.63942719,38.99216079999999,38.91450119,39.50995636,39.48405838,39.35461426,39.3028183,39.09571838,39.09571838,37.8015213,37.93090439,37.93090439,37.12873459,37.07699585,37.33573532,37.62037659,37.33573532,37.05111694,37.23223114,37.12873459,37.07699585,37.46509933,37.23223114,36.99935913,37.33573532,37.05111694,36.84413147,36.81825638,36.61130905,36.53368378,36.58543396,38.70740128,38.00854492,38.37090683,38.70740128,38.99216079999999,39.48405838,39.84658432,40.51990128,41.16746521,41.03795242,40.83072281,40.70120621,40.64941406,40.41630173,40.23501205,39.92426682,39.45817947,39.43228531,39.04393005,38.94037247,38.75916672,38.44855499,39.43228531,39.58763123,40.44220352,41.8928833,42.77397537,42.43707275,42.22975159,43.44790649,43.99232483,43.94046021,43.60343933,42.4888916,42.12609863,42.307491299999995,41.97063446,41.8928833,40.15732574,39.01805496],\"PUMP_DELTA_PRESS_CV\":[1.4169517759999999,1.470688939,1.46702528,1.4288594719999999,1.424279571,1.4071813819999999,1.4392404559999998,1.4514534469999998,1.396800637,1.40321219,1.398937941,1.385198236,1.344895124,1.3647412060000002,1.353749633,1.406265497,1.362298608,1.32871294,1.417868018,1.399853587,1.3552762269999998,1.3592453000000002,1.3659625050000002,1.3732903,1.4572547669999998,1.485955119,1.4560335869999999,1.363825202,1.353444099,1.470688939,1.4071816209999999,1.3720693590000002,1.393442035,1.3775647880000002,1.3873351809999999,1.372984886,1.3836716409999998,1.3931363819999998,1.4752688409999999,1.490840554,1.4526747469999999,1.57907933,1.483818054,1.484428525,1.4877873659999998,1.504274726,1.543966889,1.5696142320000002,1.55801183,1.557706773,1.530227304,1.5479361409999999,1.572972775,1.5277847050000002,1.552515984,1.5570958259999998,1.560454547,1.554958701,1.538165808,1.54335618,1.325659633,1.599230766,1.599841475,1.543051243,1.58030057,1.57968992,1.5772473219999998,1.5146560669999998,1.516182661,1.5763313769999998,1.589460611,1.587017775,1.59434557,1.5934298630000001,1.5934298630000001,1.590987265,1.583048582,1.58671236,1.588239014,1.5922082659999999,1.598620355,1.5219838019999998,1.4810699219999999,1.474963784,1.422447681,1.364130616,1.319553494,1.395273685,1.375427604,1.34092617,1.337262154,1.329323888,1.339704514,1.3986322880000002,1.423058271,1.369626403,1.369932055,1.340620518,1.552210689,1.552210927],\"PUMP_IB_TEMP_1\":[61.43516159,61.74795151,61.40909576,60.70545959,60.41883087,60.02801132,59.975914,59.76749802,59.24651337,58.33501053,57.94443893,57.99652481,57.13741684,56.46070099,55.9922905,56.07036591,56.77301788,57.11137772,58.82980728,59.27256393,59.22047806,59.11629105,58.72563171,58.8037529,59.03815842,58.93397903,58.28294373,57.76218796,57.65804672,58.25689697,58.02256775,57.50185776,57.34566498,57.34566498,57.21549988,57.05932999,57.03329468,57.05932999,57.7882309,57.18948746,56.77301788,58.49126434,57.13741684,56.74698639,56.8771286,56.90316391,58.07463455,58.54333878,58.49126434,58.30896378,57.71012878,57.99652481,58.33501053,57.63203049,57.65804672,57.81427002,57.76218796,57.60599136,57.18948746,57.21549988,55.34182358,58.46521759,58.93397903,58.59541321,59.84564972,60.36671066,60.88787079,60.41883087,60.65333557,61.56547546,61.98254395,61.90435028,61.74795151,61.56547546,61.30483627,60.96604156,60.809696200000005,60.26248932,60.10617065,59.84564972,59.61118317,59.16838074,57.86633301,58.12669373,58.28294373,58.62145996,59.03815842,60.10617065,60.49699402,60.57516479,60.88787079,61.09635544,61.09635544,60.75756454,60.44489288,59.871704099999995,59.16838074,58.36105728,59.45489502,59.35070419],\"PUMP_OB_TEMP_1\":[70.7530899,70.90991211,71.14517975,71.22360229,71.27587891,70.83149719,70.93605804,70.85764313,70.20425415,69.94293213,69.68161774,69.68161774,68.81948853,68.47989655,68.55825806,68.66274261,68.7672348,68.71499634,69.86452484,70.20425415,70.04743958,69.96904755,69.81227112,69.91679382,70.15196991,70.46559143,69.89066315,69.26358795,69.08071136,69.62937164,69.47260284,68.87171936,68.5321579,68.45379639,68.40155029,68.24484253,68.21871948,68.29707336,69.47260284,69.18521881,68.66274261,70.70080566,69.26358795,68.74110413,68.74110413,68.79335785,70.20425415,70.88378906,70.83149719,70.67468262,69.94293213,70.23038483,70.83149719,69.99518585,69.99518585,70.30878448,70.43944549999999,70.25650787,69.68161774,69.60323334,67.17418671,71.43273926,72.13866425,70.49172974,71.87719727,72.29555511,72.68785095,71.79875946,71.7726059,72.9232254,74.15272522,74.30971527,74.30971527,74.17887878,73.99575043,73.83873749,73.28940582,73.10629272,73.0278244,72.9232254,72.81858063,71.43273926,69.73388672,69.73388672,69.52484894,69.39421082,69.52484894,70.46559143,70.80535126,70.67468262,70.90991211,71.09288788,71.09288788,71.0406189,70.96220398,70.57012939,70.09971619,69.34195709,70.88378906,71.40659332],\"PUMP_OB_TEMP_2\":[63.78174591,63.65133286,63.886081700000005,64.27733612,64.27733612,63.886081700000005,63.7295723,63.62524033,63.26012802,62.84291458,62.76469421,62.76469421,61.90435028,61.33090591,61.51335144,61.4872818,61.77400589,61.98254395,62.81683731,63.20798492,63.23406982,63.10367203,62.84291458,62.92113495,62.71253586,62.94721985,62.60823822,62.32144547,62.13895798,62.06074905,62.13895798,61.69580841,61.43516159,61.38302612,61.27878952,61.22665405,61.14846802,61.12240219,61.69580841,61.4872818,61.30483627,62.08682632,61.74795151,61.07029343,61.09635544,61.14846802,61.98254395,62.58218002,62.60823822,62.42573166,62.03467560000001,62.03467560000001,62.37359238,62.08682632,61.82614899,61.9564743,62.00862503,61.9564743,61.64368439,61.4872818,60.49699402,62.39967346,63.44267654,62.86897278,63.44267654,63.886081700000005,64.45994568,64.30342865,64.30342865,64.72084808,65.66021729,65.86898041,65.86898041,65.79069519,65.47751617,65.26877594,64.74691772,64.43387604,64.38168335,64.22516632,64.06866455,63.44267654,62.26931381,62.19110489,62.37359238,62.63431549,62.92113495,63.520919799999994,63.93824005,64.17298889,64.32952118,64.56430054,64.45994568,64.06866455,63.91214752,63.7295723,63.10367203,62.55610275,62.71253586,63.20798492],\"SUCTION_PRESSURE_1\":[1.180996537,1.119931579,1.113825083,1.164203644,1.168783545,1.205422521,1.148937464,1.136724472,1.208475709,1.194736123,1.203895807,1.217635512,1.272593975,1.252747893,1.25885427,1.203895807,1.252747893,1.286333561,1.182523131,1.193209529,1.2573276759999998,1.255801201,1.246641397,1.234428406,1.138250947,1.080239415,1.107718587,1.214582324,1.2542746070000002,1.119931579,1.156570554,1.191682816,1.206949115,1.200842738,1.200842738,1.242061615,1.24358809,1.226795316,1.103138685,1.0924524070000001,1.142830968,0.926050246,1.097032309,1.093979001,1.095505595,1.086345792,0.98558867,0.955056131,0.976428926,0.984062016,1.0359672309999999,0.996275008,0.956582785,1.023754239,1.0039081570000001,0.974902332,0.964215815,0.979482055,1.00848794,1.0008549690000001,1.289386868,0.8497190480000001,0.84666574,1.020700932,0.932156801,0.935210049,0.935210049,1.046653509,1.045126915,0.958109379,0.8863580230000001,0.8863580230000001,0.8863580230000001,0.884831369,0.884831369,0.884831369,0.924523592,0.88177824,0.8802515860000001,0.8787249330000001,0.877198279,0.997801602,1.0924524070000001,1.086345792,1.1535172459999998,1.24358809,1.283280253,1.197789431,1.193209529,1.261907578,1.268014193,1.271067262,1.268014193,1.199316025,1.1748900409999998,1.216108918,1.232901692,1.269540787,0.999328256,0.987115264],\"SUCTION_STRAINER_DP\":[19.638496399999998,16.76844215,16.95163727,19.02784538,18.96678162,20.12701416,18.35613251,17.62335205,20.85979652,20.31021118,20.61553383,21.83683586,24.15730286,22.87493896,23.54665375,20.31021118,22.69174576,25.37860489,19.76062775,20.4934063,23.11919975,23.11919975,22.69174576,22.44748688,17.3180275,15.97459793,17.37909317,23.11919975,23.2413311,16.70737648,20.73766518,22.56961441,21.34831619,22.32535553,21.40938187,22.69174576,21.71470451,21.16511917,16.34098816,15.66927242,17.68441772,10.47875118,15.79140377,16.0356636,15.54714394,15.11968708,12.98241329,11.27259541,11.82218075,11.700049400000001,13.53199863,12.49389362,11.15046406,13.65412998,12.31070042,12.06644058,12.00537491,12.06644058,13.16560745,12.73815346,25.19540787,8.891061783,8.707864761,12.98241329,10.90620518,10.41768551,10.90620518,14.44797421,14.08158302,11.02833652,9.623841286000001,9.68490696,9.501709938,9.501709938,9.562775612000001,9.623841286000001,10.96727085,9.745968819,9.745968819,9.501709938,9.379581451,14.44797421,16.34098816,16.70737648,19.82168961,22.93600464,25.74499321,21.16511917,22.56961441,24.21836853,24.82901955,25.19540787,24.64582253,21.28725052,20.00488663,23.6687851,23.18026543,25.68392754,12.98241329,13.04347897],\"SUCTION_TEMP_1\":[179.2309418,176.2864075,175.93542480000002,178.2311249,178.5013428,180.4474182,177.66381840000003,177.0425415,180.4474182,179.7445068,180.285202,180.7718658,183.20635990000002,182.5840454,182.611084,180.3122253,182.44876100000002,183.8829498,179.5282593,179.6904602,182.63815309999998,182.63815309999998,182.1782532,181.6372833,177.5287476,173.9650879,175.881424,180.6096344,182.63815309999998,176.8535004,177.33964540000002,178.55535890000002,180.3663025,180.1770325,180.1500244,181.98887630000002,181.79954530000003,181.177475,174.342865,174.66673280000003,177.2045898,165.477005,174.96360780000003,175.0445862,175.0445862,174.7476959,168.9503326,167.2266541,168.6270905,168.8964844,171.7533417,169.7586365,167.2805176,171.0523376,169.8664551,168.41160580000002,168.00761409999998,168.6540222,170.3246002,170.2167664,183.9370728,161.09355159999998,160.63673400000002,172.6432648,166.0690918,166.2036896,166.149826,172.42749019999997,172.3466034,168.41160580000002,163.1635132,163.109726,163.1366425,163.1366425,163.2173157,163.1366425,164.3738403,163.05593869999998,162.8946075,162.7601929,162.7332764,168.6809845,174.8826447,174.8016357,177.66381840000003,181.9618378,183.7476501,180.1500244,179.93374630000002,182.935791,183.1522675,183.1251678,183.26048280000003,180.1770325,178.9337006,180.907074,181.69134519999997,183.39581299999998,170.8636627,169.21977230000002],\"time\":[1542473183734.0,1542473188740.0,1542473193746.0,1542473198751.0,1542473203757.0,1542473208763.0,1542473213769.0,1542473218775.0,1542473223781.0,1542473228786.0,1542473233792.0,1542473238798.0,1542473243804.0,1542473248810.0,1542473253816.0,1542473258821.0,1542473263827.0,1542473268833.0,1542473273839.0,1542473278841.0,1542473283847.0,1542473288854.0,1542473293860.0,1542473298866.0,1542473303872.0,1542473308878.0,1542473313884.0,1542473318890.0,1542473323897.0,1542473328903.0,1542473333909.0,1542473338915.0,1542473343921.0,1542473348926.0,1542473353932.0,1542473358938.0,1542473363944.0,1542473368953.0,1542473373959.0,1542473378966.0,1542473383971.0,1542473388977.0,1542473393983.0,1542473398990.0,1542473403996.0,1542473409002.0,1542473414008.0,1542473419013.0,1542473424019.0,1542473429025.0,1542473434031.0,1542473439037.0,1542473444042.0,1542473449048.0,1542473454054.0,1542473459060.0,1542473464066.0,1542473469072.0,1542473474077.0,1542473479083.0,1542473484089.0,1542473489095.0,1542473494101.0,1542473499109.0,1542473504115.0,1542473509121.0,1542473514126.0,1542473519132.0,1542473524138.0,1542473529144.0,1542473534150.0,1542473539156.0,1542473544161.0,1542473549167.0,1542473554173.0,1542473559177.0,1542473564183.0,1542473569189.0,1542473574193.0,1542473579199.0,1542473584205.0,1542473589209.0,1542473594215.0,1542473599221.0,1542473604227.0,1542473609233.0,1542473614239.0,1542473619245.0,1542473624251.0,1542473629256.0,1542473634262.0,1542473639268.0,1542473644274.0,1542473649280.0,1542473654286.0,1542473659291.0,1542473664297.0,1542473669303.0,1542473674306.0,1542473679307.0]},\"selected\":{\"id\":\"c5964691-384a-4991-b13f-0748a393089b\",\"type\":\"Selection\"},\"selection_policy\":{\"id\":\"9df501d3-ac99-49de-a395-e7341e0ed921\",\"type\":\"UnionRenderers\"}},\"id\":\"15e01b37-846a-47ec-aaa0-2344b3c525b6\",\"type\":\"ColumnDataSource\"},{\"attributes\":{\"days\":[1,4,7,10,13,16,19,22,25,28]},\"id\":\"538c1537-adba-43af-9236-d7713370bc44\",\"type\":\"DaysTicker\"},{\"attributes\":{\"months\":[0,2,4,6,8,10]},\"id\":\"0cbe05b8-c742-427b-9b90-ca65e12dd7f6\",\"type\":\"MonthsTicker\"},{\"attributes\":{\"active_drag\":\"auto\",\"active_inspect\":\"auto\",\"active_scroll\":\"auto\",\"active_tap\":\"auto\",\"tools\":[{\"id\":\"06b587dc-4c6d-4603-b21e-f4e583ba7092\",\"type\":\"PanTool\"},{\"id\":\"98258be6-6113-4c56-a8ac-84000bc2e52c\",\"type\":\"WheelZoomTool\"},{\"id\":\"d9466a55-fa58-421c-aa5b-5d8208764833\",\"type\":\"BoxZoomTool\"},{\"id\":\"f431d7ff-7dc4-4dd1-be9d-d1af4deb8a18\",\"type\":\"SaveTool\"},{\"id\":\"075aeb84-77d9-48b0-92ea-355c5b1b1c9e\",\"type\":\"ResetTool\"},{\"id\":\"cc958061-ccee-4c58-b6fe-290725373f7b\",\"type\":\"HelpTool\"}]},\"id\":\"9af3a4e8-1117-41e4-a06c-46a7fcc8b865\",\"type\":\"Toolbar\"},{\"attributes\":{\"num_minor_ticks\":5,\"tickers\":[{\"id\":\"638a85a5-5b83-4143-b974-189f9c4b76b4\",\"type\":\"AdaptiveTicker\"},{\"id\":\"73cb7f2b-6baf-4a01-923c-70c948e2c2fc\",\"type\":\"AdaptiveTicker\"},{\"id\":\"681e16b3-3c52-4df2-9761-40e8a9e21f18\",\"type\":\"AdaptiveTicker\"},{\"id\":\"c5d056da-c723-4a2b-a963-b77c3bf150ee\",\"type\":\"DaysTicker\"},{\"id\":\"538c1537-adba-43af-9236-d7713370bc44\",\"type\":\"DaysTicker\"},{\"id\":\"dad975f6-6a7d-42c4-9757-16b55c303e8a\",\"type\":\"DaysTicker\"},{\"id\":\"978eb63b-2878-401e-8340-578693e72523\",\"type\":\"DaysTicker\"},{\"id\":\"b2d91bbc-4c65-472f-b3a3-bf8a60bcc176\",\"type\":\"MonthsTicker\"},{\"id\":\"0cbe05b8-c742-427b-9b90-ca65e12dd7f6\",\"type\":\"MonthsTicker\"},{\"id\":\"f485baf0-8579-4284-8e37-7fc77bb6d869\",\"type\":\"MonthsTicker\"},{\"id\":\"dad552ef-1212-48b8-880a-92ff9770bcb5\",\"type\":\"MonthsTicker\"},{\"id\":\"fd388610-7bbd-4ad9-b9c7-60256f9f04bd\",\"type\":\"YearsTicker\"}]},\"id\":\"4e63593a-6cda-4040-af6e-9217a1ae51af\",\"type\":\"DatetimeTicker\"},{\"attributes\":{\"days\":[1,15]},\"id\":\"978eb63b-2878-401e-8340-578693e72523\",\"type\":\"DaysTicker\"},{\"attributes\":{\"days\":[1,8,15,22]},\"id\":\"dad975f6-6a7d-42c4-9757-16b55c303e8a\",\"type\":\"DaysTicker\"},{\"attributes\":{\"plot\":null,\"text\":\"\"},\"id\":\"c879fb29-241d-4840-a275-b1cfa1dd7a85\",\"type\":\"Title\"},{\"attributes\":{\"months\":[0,6]},\"id\":\"dad552ef-1212-48b8-880a-92ff9770bcb5\",\"type\":\"MonthsTicker\"},{\"attributes\":{\"formatter\":{\"id\":\"c8967565-6057-4aea-9f12-706d430fbdb0\",\"type\":\"DatetimeTickFormatter\"},\"plot\":{\"id\":\"2d3995eb-f644-421d-8a15-ccd625dd564e\",\"subtype\":\"Figure\",\"type\":\"Plot\"},\"ticker\":{\"id\":\"4e63593a-6cda-4040-af6e-9217a1ae51af\",\"type\":\"DatetimeTicker\"}},\"id\":\"122ea5b4-aa0e-4fad-918b-c7ac0b2d2feb\",\"type\":\"DatetimeAxis\"},{\"attributes\":{\"months\":[0,1,2,3,4,5,6,7,8,9,10,11]},\"id\":\"b2d91bbc-4c65-472f-b3a3-bf8a60bcc176\",\"type\":\"MonthsTicker\"},{\"attributes\":{\"below\":[{\"id\":\"122ea5b4-aa0e-4fad-918b-c7ac0b2d2feb\",\"type\":\"DatetimeAxis\"}],\"left\":[{\"id\":\"66d3ed7e-2d3f-48cd-8847-87df68d35e35\",\"type\":\"LinearAxis\"}],\"plot_height\":300,\"plot_width\":800,\"renderers\":[{\"id\":\"122ea5b4-aa0e-4fad-918b-c7ac0b2d2feb\",\"type\":\"DatetimeAxis\"},{\"id\":\"ea42b302-c56f-4c61-85c7-8cdb7cc93066\",\"type\":\"Grid\"},{\"id\":\"66d3ed7e-2d3f-48cd-8847-87df68d35e35\",\"type\":\"LinearAxis\"},{\"id\":\"c5989feb-1fe8-4918-9962-b7ebba75370c\",\"type\":\"Grid\"},{\"id\":\"e45f1613-f653-473a-a5ce-f3800ed150de\",\"type\":\"BoxAnnotation\"},{\"id\":\"f8d3743d-4304-4b6a-8e86-6a722f422b9a\",\"type\":\"GlyphRenderer\"}],\"title\":{\"id\":\"c879fb29-241d-4840-a275-b1cfa1dd7a85\",\"type\":\"Title\"},\"toolbar\":{\"id\":\"9af3a4e8-1117-41e4-a06c-46a7fcc8b865\",\"type\":\"Toolbar\"},\"x_range\":{\"id\":\"6e19ea86-2e2c-43e2-8d9b-c810a0998f4e\",\"type\":\"DataRange1d\"},\"x_scale\":{\"id\":\"f61dd3fe-69e7-45f1-a510-1e7f5e2157e3\",\"type\":\"LinearScale\"},\"y_range\":{\"id\":\"8db952c8-25a3-48cd-b828-eb294f9d651f\",\"type\":\"DataRange1d\"},\"y_scale\":{\"id\":\"910dbd38-fa95-4643-925b-858bc23b750f\",\"type\":\"LinearScale\"}},\"id\":\"2d3995eb-f644-421d-8a15-ccd625dd564e\",\"subtype\":\"Figure\",\"type\":\"Plot\"},{\"attributes\":{},\"id\":\"fd388610-7bbd-4ad9-b9c7-60256f9f04bd\",\"type\":\"YearsTicker\"},{\"attributes\":{},\"id\":\"9df501d3-ac99-49de-a395-e7341e0ed921\",\"type\":\"UnionRenderers\"},{\"attributes\":{},\"id\":\"910dbd38-fa95-4643-925b-858bc23b750f\",\"type\":\"LinearScale\"},{\"attributes\":{},\"id\":\"f61dd3fe-69e7-45f1-a510-1e7f5e2157e3\",\"type\":\"LinearScale\"},{\"attributes\":{\"callback\":null},\"id\":\"8db952c8-25a3-48cd-b828-eb294f9d651f\",\"type\":\"DataRange1d\"},{\"attributes\":{\"dimension\":1,\"plot\":{\"id\":\"2d3995eb-f644-421d-8a15-ccd625dd564e\",\"subtype\":\"Figure\",\"type\":\"Plot\"},\"ticker\":{\"id\":\"4f7fe48f-e31e-4fd6-8420-c26a42e44d2c\",\"type\":\"BasicTicker\"}},\"id\":\"c5989feb-1fe8-4918-9962-b7ebba75370c\",\"type\":\"Grid\"},{\"attributes\":{\"callback\":null},\"id\":\"6e19ea86-2e2c-43e2-8d9b-c810a0998f4e\",\"type\":\"DataRange1d\"},{\"attributes\":{},\"id\":\"c8967565-6057-4aea-9f12-706d430fbdb0\",\"type\":\"DatetimeTickFormatter\"},{\"attributes\":{\"line_alpha\":0.3,\"line_color\":\"red\",\"line_width\":2,\"x\":{\"field\":\"time\"},\"y\":{\"field\":\"AMBIENT_TEMPERATURE\"}},\"id\":\"936c5c4a-cf85-4fe7-878d-d6bf6436a5d1\",\"type\":\"Line\"}],\"root_ids\":[\"2d3995eb-f644-421d-8a15-ccd625dd564e\"]},\"title\":\"Bokeh Application\",\"version\":\"0.12.16\"}};\n",
       "  var render_items = [{\"docid\":\"db0c9811-59f8-49dd-aeed-5b426ed2721d\",\"elementid\":\"21005d23-a604-4ecd-b2e2-cdc7add98192\",\"modelid\":\"2d3995eb-f644-421d-8a15-ccd625dd564e\"}];\n",
       "  root.Bokeh.embed.embed_items_notebook(docs_json, render_items);\n",
       "\n",
       "  }\n",
       "  if (root.Bokeh !== undefined) {\n",
       "    embed_document(root);\n",
       "  } else {\n",
       "    var attempts = 0;\n",
       "    var timer = setInterval(function(root) {\n",
       "      if (root.Bokeh !== undefined) {\n",
       "        embed_document(root);\n",
       "        clearInterval(timer);\n",
       "      }\n",
       "      attempts++;\n",
       "      if (attempts > 100) {\n",
       "        console.log(\"Bokeh: ERROR: Unable to run BokehJS code because BokehJS library is missing\")\n",
       "        clearInterval(timer);\n",
       "      }\n",
       "    }, 10, root)\n",
       "  }\n",
       "})(window);"
      ],
      "application/vnd.bokehjs_exec.v0+json": ""
     },
     "metadata": {
      "application/vnd.bokehjs_exec.v0+json": {
       "id": "2d3995eb-f644-421d-8a15-ccd625dd564e"
      }
     },
     "output_type": "display_data"
    }
   ],
   "source": [
    "source = ColumnDataSource(data=S_json)\n",
    "\n",
    "plot = Figure(plot_width=800, plot_height=300,x_axis_type=\"datetime\")\n",
    "#plot = Figure(plot_width=800, plot_height=300)\n",
    "plot.line('time', 'AMBIENT_TEMPERATURE', source=source, line_width=2, line_alpha=0.3, line_color=\"red\")\n",
    "show(plot)"
   ]
  },
  {
   "cell_type": "code",
   "execution_count": 67,
   "metadata": {},
   "outputs": [],
   "source": [
    "source1 = AjaxDataSource(data_url='https://182.150.63.68:10443/shdky/pg_ajax',method=\"GET\")\n",
    "source2 = AjaxDataSource(data_url='http://127.0.0.1:9090/shdky/pg_ajax',method=\"GET\")\n",
    "#url = 'http://localhost:9090/static/test.json'\n",
    "#with open (url) as f:\n",
    "#    source2=pd.read_json(f)\n",
    "#    source2 = json.load(url)"
   ]
  },
  {
   "cell_type": "code",
   "execution_count": 95,
   "metadata": {},
   "outputs": [],
   "source": [
    "'''\n",
    "target_url = (\"http://archive.ics.uci.edu/ml/machine-\"\n",
    "              \"learning-databases/abalone/abalone.data\")\n",
    "abalone = pd.read_csv(target_url,header=None, prefix=\"V\")\n",
    "abalone.columns = ['Sex', 'Length', 'Diameter', 'Height',\n",
    "                   'Whole weight','Shucked weight', 'Viscera weight',\n",
    "                   'Shell weight', 'Rings']\n",
    "'''"
   ]
  },
  {
   "cell_type": "code",
   "execution_count": 180,
   "metadata": {},
   "outputs": [
    {
     "data": {
      "text/plain": [
       "2018-11-17 16:46:23.734    1.542473e+12\n",
       "2018-11-17 16:46:28.740    1.542473e+12\n",
       "2018-11-17 16:46:33.746    1.542473e+12\n",
       "2018-11-17 16:46:38.751    1.542473e+12\n",
       "2018-11-17 16:46:43.757    1.542473e+12\n",
       "2018-11-17 16:46:48.763    1.542473e+12\n",
       "2018-11-17 16:46:53.769    1.542473e+12\n",
       "2018-11-17 16:46:58.775    1.542473e+12\n",
       "2018-11-17 16:47:03.781    1.542473e+12\n",
       "2018-11-17 16:47:08.786    1.542473e+12\n",
       "2018-11-17 16:47:13.792    1.542473e+12\n",
       "2018-11-17 16:47:18.798    1.542473e+12\n",
       "2018-11-17 16:47:23.804    1.542473e+12\n",
       "2018-11-17 16:47:28.810    1.542473e+12\n",
       "2018-11-17 16:47:33.816    1.542473e+12\n",
       "2018-11-17 16:47:38.821    1.542473e+12\n",
       "2018-11-17 16:47:43.827    1.542473e+12\n",
       "2018-11-17 16:47:48.833    1.542473e+12\n",
       "2018-11-17 16:47:53.839    1.542473e+12\n",
       "2018-11-17 16:47:58.841    1.542473e+12\n",
       "2018-11-17 16:48:03.847    1.542473e+12\n",
       "2018-11-17 16:48:08.854    1.542473e+12\n",
       "2018-11-17 16:48:13.860    1.542473e+12\n",
       "2018-11-17 16:48:18.866    1.542473e+12\n",
       "2018-11-17 16:48:23.872    1.542473e+12\n",
       "2018-11-17 16:48:28.878    1.542473e+12\n",
       "2018-11-17 16:48:33.884    1.542473e+12\n",
       "2018-11-17 16:48:38.890    1.542473e+12\n",
       "2018-11-17 16:48:43.897    1.542473e+12\n",
       "2018-11-17 16:48:48.903    1.542473e+12\n",
       "                               ...     \n",
       "2018-11-17 16:52:14.150    1.542474e+12\n",
       "2018-11-17 16:52:19.156    1.542474e+12\n",
       "2018-11-17 16:52:24.161    1.542474e+12\n",
       "2018-11-17 16:52:29.167    1.542474e+12\n",
       "2018-11-17 16:52:34.173    1.542474e+12\n",
       "2018-11-17 16:52:39.177    1.542474e+12\n",
       "2018-11-17 16:52:44.183    1.542474e+12\n",
       "2018-11-17 16:52:49.189    1.542474e+12\n",
       "2018-11-17 16:52:54.193    1.542474e+12\n",
       "2018-11-17 16:52:59.199    1.542474e+12\n",
       "2018-11-17 16:53:04.205    1.542474e+12\n",
       "2018-11-17 16:53:09.209    1.542474e+12\n",
       "2018-11-17 16:53:14.215    1.542474e+12\n",
       "2018-11-17 16:53:19.221    1.542474e+12\n",
       "2018-11-17 16:53:24.227    1.542474e+12\n",
       "2018-11-17 16:53:29.233    1.542474e+12\n",
       "2018-11-17 16:53:34.239    1.542474e+12\n",
       "2018-11-17 16:53:39.245    1.542474e+12\n",
       "2018-11-17 16:53:44.251    1.542474e+12\n",
       "2018-11-17 16:53:49.256    1.542474e+12\n",
       "2018-11-17 16:53:54.262    1.542474e+12\n",
       "2018-11-17 16:53:59.268    1.542474e+12\n",
       "2018-11-17 16:54:04.274    1.542474e+12\n",
       "2018-11-17 16:54:09.280    1.542474e+12\n",
       "2018-11-17 16:54:14.286    1.542474e+12\n",
       "2018-11-17 16:54:19.291    1.542474e+12\n",
       "2018-11-17 16:54:24.297    1.542474e+12\n",
       "2018-11-17 16:54:29.303    1.542474e+12\n",
       "2018-11-17 16:54:34.306    1.542474e+12\n",
       "2018-11-17 16:54:39.307    1.542474e+12\n",
       "Name: time, Length: 100, dtype: float64"
      ]
     },
     "execution_count": 180,
     "metadata": {},
     "output_type": "execute_result"
    }
   ],
   "source": [
    "R1.time"
   ]
  },
  {
   "cell_type": "code",
   "execution_count": 176,
   "metadata": {},
   "outputs": [],
   "source": [
    "R1= R.copy()\n",
    "R1['time']=pd.to_datetime(R.index)\n",
    "R1['time']=R1['time'].apply(lambda x: x.value/1000000)"
   ]
  },
  {
   "cell_type": "code",
   "execution_count": 177,
   "metadata": {
    "scrolled": true
   },
   "outputs": [],
   "source": [
    "S_json={S: list(R1[S].values) for S in R1}"
   ]
  },
  {
   "cell_type": "code",
   "execution_count": 183,
   "metadata": {},
   "outputs": [
    {
     "data": {
      "text/plain": [
       "1"
      ]
     },
     "execution_count": 183,
     "metadata": {},
     "output_type": "execute_result"
    }
   ],
   "source": [
    "np.random.randint(3)"
   ]
  },
  {
   "cell_type": "code",
   "execution_count": null,
   "metadata": {},
   "outputs": [],
   "source": []
  },
  {
   "cell_type": "code",
   "execution_count": 178,
   "metadata": {},
   "outputs": [
    {
     "data": {
      "text/plain": [
       "'{\"AMBIENT_TEMPERATURE\": [28.54973221, 28.18845177, 27.85299873, 27.36281586, 26.89848137, 26.51158333, 26.02157593, 25.60900879, 25.27381516, 24.93867493, 24.57778549, 24.47467804, 23.18614006, 22.12992096, 22.02688789, 22.23295403, 23.26343536, 24.39735603, 25.32538986, 25.45431137, 25.48008156, 24.16539764, 23.05732727, 22.46478081, 21.76933479, 21.4087677, 20.94528008, 20.01845932, 19.40070724, 19.27203941, 18.88602257, 18.57723808, 18.29421425, 17.95977211, 17.52246857, 17.21380997, 17.16237831, 17.59963417, 17.75396919, 17.83113861, 18.11412239, 18.16558647, 17.72825813, 17.39385414, 16.90517998, 16.93090057, 17.23953629, 17.934040070000005, 18.5515213, 18.62870979, 18.44859886, 18.21703339, 18.16558647, 18.16558647, 17.95977211, 17.83113861, 17.67679977, 17.59963417, 17.39385414, 17.2652607, 17.34242058, 18.19130135, 19.63235664, 20.84228516, 21.8980999, 23.05732727, 24.44889641, 25.48008156, 26.02157593, 26.30525208, 26.25368309, 26.02157593, 25.66057014, 25.24804688, 24.65511131, 24.1138382, 23.52112579, 22.98001671, 22.43901443, 21.97536469, 21.43452454, 20.97101402, 20.89377213, 21.12552261, 21.69205475, 23.10884666, 24.08806229, 24.83555603, 25.53166008, 26.48578835, 27.07904816, 27.44020462, 27.56920815, 27.54340363, 27.46601105, 27.07904816, 26.53738213, 25.97000885, 25.22226143, 24.78400803], \"DISCHARGE_FLOW_COMMON\": [1346.673584, 1230.918579, 1243.824585, 1321.627197, 1322.602051, 1361.87207, 1295.726196, 1276.663574, 1382.328125, 1370.459595, 1377.951416, 1404.463989, 1487.21521, 1452.8811039999998, 1462.506714, 1368.796875, 1453.057861, 1519.620483, 1348.7613529999999, 1373.929932, 1466.67749, 1459.211914, 1445.7438960000002, 1427.852905, 1264.003052, 1211.93335, 1261.350464, 1455.893555, 1464.526611, 1231.767944, 1378.0119630000002, 1447.9941410000001, 1399.245117, 1427.005249, 1407.192993, 1434.05896, 1413.465698, 1394.079834, 1231.083252, 1193.164917, 1275.367554, 987.3380737, 1204.8045650000001, 1208.617432, 1199.4997560000002, 1162.458008, 1080.279053, 1013.3114619999999, 1040.253784, 1037.096558, 1111.7692869999998, 1071.018433, 1007.051208, 1123.4686279999999, 1059.160034, 1044.932739, 1046.6665039999998, 1049.353638, 1092.5897220000002, 1076.646118, 1525.737305, 884.2768555, 875.4700316999999, 1079.549927, 995.0317382999999, 986.9858398, 994.9743042000001, 1146.207642, 1140.737549, 1003.184082, 928.9210814999999, 916.8971558000001, 918.6038818, 925.4945068, 930.5899658, 920.3432617000001, 996.0349120999999, 920.3543091, 927.3393555, 923.9750977, 920.5287476, 1152.76416, 1224.196167, 1239.51001, 1340.871948, 1454.581299, 1543.0974119999998, 1391.563965, 1441.3748779999999, 1506.188843, 1503.887329, 1518.337158, 1508.94165, 1391.565186, 1339.926514, 1446.973145, 1436.473145, 1495.3378910000001, 1058.397827, 1065.430542], \"DISCHARGE_PRESSURE\": [2.5979483130000003, 2.590620518, 2.580850363, 2.5930631159999997, 2.5930631159999997, 2.612603903, 2.588177919, 2.588177919, 2.605276346, 2.5979483130000003, 2.602833748, 2.602833748, 2.6174891, 2.6174891, 2.612603903, 2.610161304, 2.615046501, 2.615046501, 2.60039115, 2.5930631159999997, 2.612603903, 2.615046501, 2.612603903, 2.607718706, 2.595505714, 2.566194534, 2.563752174, 2.578407526, 2.607718706, 2.590620518, 2.563752174, 2.563752174, 2.60039115, 2.578407526, 2.588177919, 2.615046501, 2.627259731, 2.6199316980000003, 2.578407526, 2.5832929609999997, 2.595505714, 2.505129576, 2.580850363, 2.578407526, 2.5832929609999997, 2.590620518, 2.5295555590000003, 2.5246703619999997, 2.534440756, 2.5417687890000003, 2.566194534, 2.544211149, 2.5295555590000003, 2.5515389440000003, 2.556424141, 2.531998158, 2.5246703619999997, 2.534440756, 2.546653748, 2.544211149, 2.615046501, 2.448949814, 2.446507215, 2.563752174, 2.512457371, 2.514899969, 2.512457371, 2.5613095759999998, 2.5613095759999998, 2.534440756, 2.475818634, 2.473375797, 2.480703592, 2.478261232, 2.478261232, 2.475818634, 2.507572174, 2.468490601, 2.468490601, 2.470933199, 2.475818634, 2.5197854040000003, 2.573522329, 2.5613095759999998, 2.5759649280000003, 2.607718706, 2.602833748, 2.5930631159999997, 2.568637133, 2.602833748, 2.605276346, 2.60039115, 2.607718706, 2.5979483130000003, 2.5979483130000003, 2.585735321, 2.602833748, 2.610161304, 2.5515389440000003, 2.539326191], \"DISCHARGE_TEMP_1\": [179.2309418, 176.3404083, 175.9624023, 178.2041168, 178.5013428, 180.4474182, 177.63677980000003, 177.0425415, 180.4474182, 179.7174835, 180.285202, 180.71777340000003, 183.179306, 182.5840454, 182.5569916, 180.3663025, 182.39468380000002, 183.855896, 179.5553131, 179.6363983, 182.63815309999998, 182.66520690000002, 182.1782532, 181.610199, 177.55574040000002, 173.91116330000003, 175.93542480000002, 180.5285339, 182.66520690000002, 176.98855590000002, 177.1235657, 178.28517150000002, 180.33924869999998, 180.1500244, 180.1500244, 181.9618378, 181.7724762, 181.1234131, 174.15399169999998, 174.69371030000002, 177.1506042, 165.530838, 174.9365997, 175.0445862, 175.0445862, 174.8016357, 169.0042419, 167.2805176, 168.6809845, 168.8964844, 171.7533417, 169.81256100000002, 167.2805176, 171.0253906, 169.8394775, 168.4385071, 168.0345154, 168.6270905, 170.3246002, 170.2437439, 183.855896, 161.2010651, 160.6904755, 172.83204650000002, 166.095993, 166.2305756, 166.2036896, 172.42749019999997, 172.3735504, 168.6270905, 163.19039919999997, 163.1366425, 163.19039919999997, 163.19039919999997, 163.2710571, 163.1635132, 164.2124481, 163.1366425, 162.92150880000003, 162.78706359999998, 162.78706359999998, 168.41160580000002, 174.8826447, 174.8286591, 177.55574040000002, 181.93476869999998, 183.7205505, 180.1770325, 179.87966919999997, 182.88166809999998, 183.1251678, 183.07109069999998, 183.26048280000003, 180.1770325, 178.90664669999998, 180.8529816, 181.66430659999997, 183.39581299999998, 171.18713380000003, 169.24668880000002], \"FLOW_1\": [1337.363525, 1223.258789, 1237.508789, 1312.12915, 1313.114014, 1350.371582, 1288.461792, 1264.342651, 1374.407593, 1354.419556, 1368.86499, 1395.555176, 1477.780396, 1441.057495, 1452.903809, 1359.650024, 1446.619751, 1512.450928, 1337.135864, 1364.809814, 1458.169922, 1451.732544, 1434.940186, 1416.904663, 1251.564331, 1201.521362, 1255.122681, 1451.602539, 1454.938477, 1222.839111, 1368.89502, 1438.244751, 1386.928467, 1422.625366, 1394.9438480000001, 1428.621582, 1404.625854, 1387.357056, 1218.2617189999999, 1185.247314, 1266.747681, 972.7867432, 1195.654419, 1199.497559, 1187.671265, 1151.609009, 1071.4746089999999, 1003.902649, 1028.036743, 1027.921265, 1101.813354, 1062.1448970000001, 997.583374, 1109.357788, 1048.68335, 1038.868164, 1036.0432130000002, 1041.8009029999998, 1082.442139, 1066.345703, 1510.394775, 871.5840454, 866.3255615, 1070.7753910000001, 980.6032104000001, 977.312561, 982.1602173, 1140.704956, 1129.651489, 992.1022949, 911.6597289999999, 906.4418945, 908.1688232000001, 913.4005127, 918.5641479000001, 909.9279175, 988.0370482999999, 911.6829833999999, 920.4598389, 915.3347167999999, 910.1112061000001, 1140.364014, 1213.8999019999999, 1229.341675, 1335.025269, 1442.7613529999999, 1528.942139, 1381.436768, 1433.7753910000001, 1499.982788, 1495.596924, 1512.182495, 1501.715332, 1380.30835, 1329.391357, 1439.412476, 1426.684082, 1485.9573970000001, 1046.424683, 1059.4882810000001], \"FLOW_2\": [1337.363525, 1225.817383, 1238.774536, 1313.3201900000001, 1315.492432, 1351.526001, 1290.887817, 1266.8164060000001, 1375.54187, 1356.722534, 1371.142334, 1397.78772, 1478.8317869999998, 1442.1363529999999, 1455.0432130000002, 1360.7967529999999, 1448.769043, 1513.477295, 1338.3029789999998, 1365.953125, 1460.301514, 1452.803345, 1437.1073, 1419.101074, 1254.06189, 1205.436401, 1258.8630369999998, 1451.602539, 1457.074707, 1224.118774, 1370.038086, 1439.331299, 1386.928467, 1423.721436, 1396.061768, 1429.710693, 1405.734009, 1388.479736, 1220.836792, 1186.570557, 1266.747681, 977.6613159, 1198.275757, 1203.414551, 1188.991455, 1155.689331, 1074.41748, 1005.47699, 1031.104614, 1029.456177, 1103.241089, 1063.6289060000001, 1002.328552, 1112.194336, 1050.186401, 1041.904907, 1040.609375, 1044.828491, 1085.351074, 1069.298828, 1507.307617, 873.4085693, 868.1621704, 1072.242798, 983.8278809000001, 982.1611328, 986.9849854, 1143.459595, 1133.821533, 996.8668213, 915.1380005000001, 916.8971558000001, 909.9163818, 915.1380005000001, 922.0161742999999, 913.4129639, 991.2439575, 915.1613159, 922.1845093000001, 918.8006592, 911.8557739, 1143.1313480000001, 1216.4823, 1231.891479, 1336.196533, 1443.8398439999999, 1528.942139, 1381.436768, 1435.950806, 1499.982788, 1498.711182, 1511.154297, 1502.7498779999999, 1380.30835, 1329.391357, 1440.494995, 1427.7751460000002, 1488.0471189999998, 1049.430786, 1062.463623], \"GROSS_LOAD\": [825.6461182, 758.4814453, 763.2789307, 816.0512085, 813.6524658, 842.4373168999999, 801.6587524, 787.2663574, 857.6293945, 848.0343627999998, 855.2305908, 869.6230469000001, 921.5957642000001, 898.407959, 910.4016113, 849.6335449, 899.2075195, 938.3869018999999, 824.8466187000001, 840.8381347999999, 904.8025513, 902.4058228, 890.4121094000001, 881.6166992000001, 781.6693115, 741.6882935, 771.2747192, 880.8171997000002, 901.6062622000002, 759.2810059, 826.4457397000001, 878.418457, 864.026001, 871.2222289999999, 866.4247437000001, 892.8109131000001, 885.6146851, 872.8214111, 769.6755371, 748.8864746, 794.4625244, 598.5654907, 751.2833862000001, 746.487793, 739.2915649, 727.2978516, 652.9368896000001, 619.3545532, 639.3440552000001, 640.1436157, 689.7175903, 658.5339355000001, 618.5549927000001, 691.3167725, 660.9326782, 639.3440552000001, 623.352478, 643.34198, 671.3272705, 664.1310425, 937.5873412999999, 519.4070435, 520.206604, 649.7386475, 598.5654907, 599.3650512999999, 598.5654907, 696.9138184, 696.1141968, 605.7617187999999, 551.3902588, 551.3902588, 550.5906982000001, 551.3902588, 553.7890014999999, 551.3902588, 600.9642334, 551.3902588, 550.5906982000001, 550.5906982000001, 550.5906982000001, 690.5171508999999, 748.0869751, 742.4898071, 815.2516479, 897.6083374, 941.5852661, 850.4331664999999, 859.2285767000001, 914.3995361, 923.9944457999999, 924.7940674, 922.3953857000001, 848.8339844000001, 822.447876, 876.0196533, 882.4163207999999, 917.5978393999999, 644.9411011, 647.3398437999999], \"IB_SEAL_DRAIN_TEMP\": [43.83675385, 43.370121000000005, 43.03315735, 42.90357208, 42.98132706, 42.92947769, 42.17791367, 41.99652863, 42.20383453, 41.34880829, 41.27109146, 41.63378906, 41.34880829, 41.11566544, 40.39041519, 40.46810913, 41.47834778, 42.25567245, 42.64437866, 42.43707275, 43.00723267, 42.69622421, 42.22975159, 41.84107208, 41.11566544, 40.31272125, 40.51990128, 40.70120621, 41.29700089, 40.41630173, 39.74300385, 39.66532516, 40.23501205, 40.15732574, 40.05373383, 39.95014572, 39.76888275, 39.84658432, 38.70740128, 38.68151093, 38.70740128, 38.96627045, 38.08620453, 38.13795853, 38.47442627, 38.16384506, 38.62974929999999, 38.96627045, 38.81094742, 38.75916672, 38.78505707, 38.81094742, 38.96627045, 38.65562057, 38.50031662, 38.47442627, 38.47442627, 38.29324341, 38.06031799, 38.18971252, 39.06982422, 40.75302124, 41.58198166, 39.84658432, 40.77890778, 41.32291412, 41.81515503, 41.50426102, 42.02244568, 42.51481247, 43.18867111, 43.05908203, 42.92947769, 42.79989624, 42.67030334, 42.35931015, 41.55606842, 41.76334381, 41.47834778, 41.29700089, 41.11566544, 39.95014572, 40.0278511, 40.33860779, 40.96024704, 42.25567245, 42.92947769, 42.82580185, 42.82580185, 43.70714188, 44.19975281, 44.25160599, 43.78491211, 42.92947769, 42.64437866, 42.64437866, 42.307491299999995, 42.10017776, 41.08975601, 40.26091385], \"MOTOR_CURRENT\": [85.53003693, 81.71958923, 82.5989151, 84.94380951, 84.65071106, 85.82315826, 83.7713623, 82.89203644, 86.99560547, 86.40937042, 86.99560547, 87.28871918, 90.21982574, 88.16804504, 88.75426483, 86.70248413, 88.16804504, 90.21982574, 85.38348389, 85.82315826, 88.75426483, 88.16804504, 87.87493134, 87.58181763, 82.5989151, 81.4264679, 82.30581665, 89.63361359, 90.21982574, 82.01270294, 87.28871918, 89.92672729, 87.58181763, 88.46116638, 87.28871918, 88.16804504, 87.28871918, 86.70248413, 81.71958923, 79.96090698, 82.89203644, 72.1934433, 80.25402832, 79.96090698, 79.37469482, 78.78846741, 75.71080017, 73.07279205, 74.24523926, 74.24523926, 77.17636108, 75.41767883, 73.36590576, 77.46945953, 75.41767883, 74.83145142, 74.83145142, 75.12456512, 76.88324738, 76.29701233, 92.85783386, 68.08988953, 68.08988953, 76.00389862, 72.1934433, 72.1934433, 72.1934433, 78.49536133, 77.90913391, 72.77967834, 69.84854889, 69.55545044, 69.55545044, 70.14167023, 70.14167023, 69.84854889, 72.77967834, 70.14167023, 70.43478394, 69.84854889, 69.84854889, 79.08158112, 82.01270294, 82.5989151, 86.11627197, 89.04737854, 91.39227295, 86.40937042, 87.87493134, 89.34049225, 89.34049225, 89.63361359, 89.34049225, 86.11627197, 84.65071106, 87.87493134, 88.16804504, 89.34049225, 74.24523926, 75.41767883], \"MOTOR_IB_TEMP_1\": [59.84564972, 59.76749802, 58.93397903, 57.91841888, 57.63203049, 57.13741684, 56.46070099, 55.65403748, 55.44588852, 54.35337448, 53.9892807, 53.93728256, 52.68927002, 52.32536316, 51.93549728, 51.96149445, 52.81925964, 53.78124237, 55.34182358, 55.73208618, 56.33059311, 56.09637451, 55.86219406, 55.94025421, 55.315822600000004, 54.19733429, 53.93728256, 53.85924911, 54.56145096, 54.24934006, 52.79325485, 52.32536316, 52.81925964, 52.89724350000001, 52.79325485, 52.63729095, 52.53331375, 52.32536316, 51.57167053, 51.15590668, 50.81814957, 50.50639343, 49.07792282, 49.31162262, 49.80506897, 49.77909088, 49.62326813, 49.44147491, 49.33759689, 49.18179321, 48.97405624, 48.94808578, 48.63652039, 48.45478439, 48.55861664, 48.35093307, 47.96154022, 47.62410736, 47.67601013, 47.93557358, 48.87018967, 49.93494415, 48.97405624, 49.54536057, 50.8441391, 51.70161057, 52.58529282, 53.26121521, 54.71751022, 55.41988754, 55.02965927, 54.5094223, 54.04128647, 53.59922409, 52.97523117, 52.35136032, 51.77957153, 51.59766388, 50.9480629, 50.42846298, 50.01286316, 49.83104706, 50.89609146, 51.90950394, 52.81925964, 54.58746719, 56.33059311, 57.86633301, 58.36105728, 59.27256393, 60.13222885, 60.54909897, 60.36671066, 59.03815842, 57.76218796, 56.77301788, 56.59083176, 56.12240219, 54.87356949, 52.40333557], \"MOTOR_OB_TEMP_1\": [42.28157043, 42.69622421, 41.97063446, 41.11566544, 40.54580688, 39.74300385, 39.09571838, 38.68151093, 38.37090683, 37.15461349, 37.15461349, 37.15461349, 35.52494431, 34.878479, 34.77505493, 34.82677460000001, 36.45608139, 37.07699585, 38.37090683, 38.81094742, 39.35461426, 38.37090683, 38.00854492, 38.39677811, 37.74975204, 37.36159515, 37.23223114, 36.89587021, 36.94762421, 36.45608139, 35.73184586, 35.31807709, 35.47323227, 35.44736862, 35.13706589, 34.90434265, 34.878479, 34.82677460000001, 34.51651382, 34.46481705, 34.23213577, 33.92195129, 33.19826508, 33.17241669, 33.456707, 33.32747269, 33.61177063, 33.92195129, 33.94778442, 33.58591843, 33.27579498, 33.17241669, 33.06904602, 32.91400146, 32.73312378, 32.57807159, 32.37136841, 32.06135559, 32.08719635, 32.293861390000004, 32.73312378, 33.71516037, 34.38726044, 35.18877411, 36.35260773, 37.07699585, 38.16384506, 38.78505707, 39.71710587, 40.10553741, 40.0278511, 39.74300385, 39.48405838, 39.38051224, 38.70740128, 38.00854492, 37.3098526, 36.76652527, 36.1456871, 35.65426254, 35.60252762000001, 35.26634979, 35.52494431, 36.01635361, 37.07699585, 38.29324341, 39.22515488, 40.49401474, 41.29700089, 41.86698532, 42.307491299999995, 42.592556, 42.3852272, 41.50426102, 40.67531967, 40.07963562, 39.22515488, 38.39677811, 37.33573532, 36.17153931], \"MOTOR_STATOR_TEMP_1\": [78.60369109999999, 77.55587769, 76.48218536, 76.40364838, 76.53456879, 76.58690643, 74.57139587, 73.28940582, 74.85921478, 73.52482605, 73.62948608, 73.91726685, 73.31555176, 72.42630768, 72.06022644, 71.61574554, 73.36787415, 75.1733017, 75.3041687, 74.83305359, 76.87493896, 76.56072998, 75.88004303, 75.93237305, 73.42021179, 70.90991211, 71.82489014, 73.23708344, 75.43501282, 72.50476074, 70.09971619, 70.88378906, 72.63552856, 72.58321381, 72.190979, 72.24326324, 72.06022644, 71.48501587, 67.53973389, 67.67030334, 68.06202698, 64.59039307, 64.79911041, 65.66021729, 66.31271362, 66.07778931, 64.17298889, 63.49485397, 63.83390045, 63.67741776, 64.19908142, 63.7295723, 62.45180893, 63.49485397, 63.54700089, 62.71253586, 62.08682632, 61.87827301, 62.66039276, 62.89505768, 69.39421082, 62.66039276, 61.14846802, 65.06002045, 65.26877594, 66.05168152, 67.01753998, 69.49871826, 71.27587891, 70.70080566, 68.34931946, 67.80088043, 67.33085632, 66.80867767, 66.02559662, 65.37316132, 65.19049835, 64.9295578, 63.96432877, 63.31229401, 62.92113495, 64.38168335, 68.06202698, 69.28971863, 71.22360229, 75.3041687, 77.94876099, 78.36791229, 78.34169006, 80.54307556, 81.69671631, 82.01145172, 81.74917603, 79.10153198, 77.13682556, 76.87493896, 76.87493896, 76.95349884, 70.96220398, 66.99142456], \"MOTOR_STATOR_TEMP_2\": [75.80147552, 74.70220184, 73.83873749, 73.62948608, 73.57715607, 73.62948608, 71.56344604, 70.43944549999999, 71.95562744, 70.43944549999999, 70.49172974, 70.70080566, 70.04743958, 69.39421082, 68.74110413, 68.42767334, 70.36104584, 72.08638, 72.34786224, 71.8510437, 73.7341156, 73.31555176, 72.76630402, 72.89704132, 70.41333008, 68.14037323, 69.08071136, 70.30878448, 72.190979, 69.44647217, 67.3830719, 67.87921906, 69.55098724, 69.39421082, 69.13295746, 69.15908051, 68.89785004, 68.32319641, 64.72084808, 64.85128784, 65.24267578, 62.16502762, 62.08682632, 62.97327805, 63.49485397, 63.31229401, 61.74795151, 61.17454147, 61.30483627, 61.25272369, 61.56547546, 61.12240219, 60.00195313, 60.96604156, 60.91391373, 60.23644638, 59.63724136, 59.42884445, 60.13222885, 60.41883087, 66.33879852, 60.34066391, 58.96001434, 62.71253586, 62.92113495, 63.7295723, 64.69475555, 67.01753998, 68.84558868, 68.34931946, 66.18218994, 65.50362396, 65.11220551, 64.64256287, 63.886081700000005, 63.23406982, 62.84291458, 62.58218002, 61.61761475, 61.09635544, 60.70545959, 62.03467560000001, 65.4514389, 66.54763031, 68.34931946, 72.37402344, 74.99007416, 75.35649109, 75.33032990000001, 77.58205414, 78.52510071, 78.91809082, 78.65610504, 76.03711700000001, 74.07423401, 73.7341156, 73.83873749, 73.7341156, 68.06202698, 64.35561371], \"MOTOR_STATOR_TEMP_3\": [74.12653351, 73.10629272, 72.21710968, 72.06022644, 72.00791931, 72.03407288, 69.94293213, 68.81948853, 70.28264618, 68.81948853, 68.87171936, 69.13295746, 68.45379639, 67.72251892, 67.22641754, 66.86090851, 68.79335785, 70.46559143, 70.72694397, 70.33490753, 72.190979, 71.69417572, 71.06676483, 71.24974823, 68.79335785, 66.67816162, 67.48751831, 68.66274261, 70.59627533, 67.74864197, 65.79069519, 66.44321442, 67.85309601, 67.74864197, 67.53973389, 67.5658493, 67.27862549, 66.73036194, 63.23406982, 63.41661453, 63.70350647, 60.62728882, 60.75756454, 61.59154129, 62.03467560000001, 61.87827301, 60.34066391, 59.76749802, 59.89774323, 59.74144363, 60.15829086, 59.71538544, 58.67355347, 59.58514786, 59.5070076, 58.8037529, 58.30896378, 57.99652481, 58.64750671, 59.03815842, 64.82519531, 58.93397903, 57.73616791, 61.27878952, 61.53942489999999, 62.32144547, 63.39052963, 65.58190918, 67.3830719, 66.93921661, 64.82519531, 64.12082672, 63.75566101, 63.31229401, 62.55610275, 61.77400589, 61.53942489999999, 61.20058823, 60.28854752, 59.81959152, 59.40280914, 60.62728882, 64.01648712, 65.08612061, 66.86090851, 70.72694397, 73.18475342, 73.7341156, 73.68177795, 75.85384369, 76.82255554, 77.16300964, 76.92733002, 74.41436005, 72.40015411, 72.16481781, 72.21710968, 72.11251068, 66.44321442, 62.86897278], \"OB_SEAL_DRAIN_TEMP\": [43.11091232, 42.64437866, 42.35931015, 42.43707275, 42.35931015, 42.3852272, 41.50426102, 41.16746521, 41.6078949, 40.77890778, 40.75302124, 41.14157486, 41.11566544, 40.75302124, 39.97604752, 40.00194931, 40.93433762, 42.02244568, 42.04836655, 41.84107208, 42.69622421, 42.33340836, 41.84107208, 41.37471771, 40.46810913, 39.69120789, 39.79478455, 40.00194931, 40.77890778, 39.63942719, 38.99216079999999, 38.91450119, 39.50995636, 39.48405838, 39.35461426, 39.3028183, 39.09571838, 39.09571838, 37.8015213, 37.93090439, 37.93090439, 37.12873459, 37.07699585, 37.33573532, 37.62037659, 37.33573532, 37.05111694, 37.23223114, 37.12873459, 37.07699585, 37.46509933, 37.23223114, 36.99935913, 37.33573532, 37.05111694, 36.84413147, 36.81825638, 36.61130905, 36.53368378, 36.58543396, 38.70740128, 38.00854492, 38.37090683, 38.70740128, 38.99216079999999, 39.48405838, 39.84658432, 40.51990128, 41.16746521, 41.03795242, 40.83072281, 40.70120621, 40.64941406, 40.41630173, 40.23501205, 39.92426682, 39.45817947, 39.43228531, 39.04393005, 38.94037247, 38.75916672, 38.44855499, 39.43228531, 39.58763123, 40.44220352, 41.8928833, 42.77397537, 42.43707275, 42.22975159, 43.44790649, 43.99232483, 43.94046021, 43.60343933, 42.4888916, 42.12609863, 42.307491299999995, 41.97063446, 41.8928833, 40.15732574, 39.01805496], \"PUMP_DELTA_PRESS_CV\": [1.4169517759999999, 1.470688939, 1.46702528, 1.4288594719999999, 1.424279571, 1.4071813819999999, 1.4392404559999998, 1.4514534469999998, 1.396800637, 1.40321219, 1.398937941, 1.385198236, 1.344895124, 1.3647412060000002, 1.353749633, 1.406265497, 1.362298608, 1.32871294, 1.417868018, 1.399853587, 1.3552762269999998, 1.3592453000000002, 1.3659625050000002, 1.3732903, 1.4572547669999998, 1.485955119, 1.4560335869999999, 1.363825202, 1.353444099, 1.470688939, 1.4071816209999999, 1.3720693590000002, 1.393442035, 1.3775647880000002, 1.3873351809999999, 1.372984886, 1.3836716409999998, 1.3931363819999998, 1.4752688409999999, 1.490840554, 1.4526747469999999, 1.57907933, 1.483818054, 1.484428525, 1.4877873659999998, 1.504274726, 1.543966889, 1.5696142320000002, 1.55801183, 1.557706773, 1.530227304, 1.5479361409999999, 1.572972775, 1.5277847050000002, 1.552515984, 1.5570958259999998, 1.560454547, 1.554958701, 1.538165808, 1.54335618, 1.325659633, 1.599230766, 1.599841475, 1.543051243, 1.58030057, 1.57968992, 1.5772473219999998, 1.5146560669999998, 1.516182661, 1.5763313769999998, 1.589460611, 1.587017775, 1.59434557, 1.5934298630000001, 1.5934298630000001, 1.590987265, 1.583048582, 1.58671236, 1.588239014, 1.5922082659999999, 1.598620355, 1.5219838019999998, 1.4810699219999999, 1.474963784, 1.422447681, 1.364130616, 1.319553494, 1.395273685, 1.375427604, 1.34092617, 1.337262154, 1.329323888, 1.339704514, 1.3986322880000002, 1.423058271, 1.369626403, 1.369932055, 1.340620518, 1.552210689, 1.552210927], \"PUMP_IB_TEMP_1\": [61.43516159, 61.74795151, 61.40909576, 60.70545959, 60.41883087, 60.02801132, 59.975914, 59.76749802, 59.24651337, 58.33501053, 57.94443893, 57.99652481, 57.13741684, 56.46070099, 55.9922905, 56.07036591, 56.77301788, 57.11137772, 58.82980728, 59.27256393, 59.22047806, 59.11629105, 58.72563171, 58.8037529, 59.03815842, 58.93397903, 58.28294373, 57.76218796, 57.65804672, 58.25689697, 58.02256775, 57.50185776, 57.34566498, 57.34566498, 57.21549988, 57.05932999, 57.03329468, 57.05932999, 57.7882309, 57.18948746, 56.77301788, 58.49126434, 57.13741684, 56.74698639, 56.8771286, 56.90316391, 58.07463455, 58.54333878, 58.49126434, 58.30896378, 57.71012878, 57.99652481, 58.33501053, 57.63203049, 57.65804672, 57.81427002, 57.76218796, 57.60599136, 57.18948746, 57.21549988, 55.34182358, 58.46521759, 58.93397903, 58.59541321, 59.84564972, 60.36671066, 60.88787079, 60.41883087, 60.65333557, 61.56547546, 61.98254395, 61.90435028, 61.74795151, 61.56547546, 61.30483627, 60.96604156, 60.809696200000005, 60.26248932, 60.10617065, 59.84564972, 59.61118317, 59.16838074, 57.86633301, 58.12669373, 58.28294373, 58.62145996, 59.03815842, 60.10617065, 60.49699402, 60.57516479, 60.88787079, 61.09635544, 61.09635544, 60.75756454, 60.44489288, 59.871704099999995, 59.16838074, 58.36105728, 59.45489502, 59.35070419], \"PUMP_OB_TEMP_1\": [70.7530899, 70.90991211, 71.14517975, 71.22360229, 71.27587891, 70.83149719, 70.93605804, 70.85764313, 70.20425415, 69.94293213, 69.68161774, 69.68161774, 68.81948853, 68.47989655, 68.55825806, 68.66274261, 68.7672348, 68.71499634, 69.86452484, 70.20425415, 70.04743958, 69.96904755, 69.81227112, 69.91679382, 70.15196991, 70.46559143, 69.89066315, 69.26358795, 69.08071136, 69.62937164, 69.47260284, 68.87171936, 68.5321579, 68.45379639, 68.40155029, 68.24484253, 68.21871948, 68.29707336, 69.47260284, 69.18521881, 68.66274261, 70.70080566, 69.26358795, 68.74110413, 68.74110413, 68.79335785, 70.20425415, 70.88378906, 70.83149719, 70.67468262, 69.94293213, 70.23038483, 70.83149719, 69.99518585, 69.99518585, 70.30878448, 70.43944549999999, 70.25650787, 69.68161774, 69.60323334, 67.17418671, 71.43273926, 72.13866425, 70.49172974, 71.87719727, 72.29555511, 72.68785095, 71.79875946, 71.7726059, 72.9232254, 74.15272522, 74.30971527, 74.30971527, 74.17887878, 73.99575043, 73.83873749, 73.28940582, 73.10629272, 73.0278244, 72.9232254, 72.81858063, 71.43273926, 69.73388672, 69.73388672, 69.52484894, 69.39421082, 69.52484894, 70.46559143, 70.80535126, 70.67468262, 70.90991211, 71.09288788, 71.09288788, 71.0406189, 70.96220398, 70.57012939, 70.09971619, 69.34195709, 70.88378906, 71.40659332], \"PUMP_OB_TEMP_2\": [63.78174591, 63.65133286, 63.886081700000005, 64.27733612, 64.27733612, 63.886081700000005, 63.7295723, 63.62524033, 63.26012802, 62.84291458, 62.76469421, 62.76469421, 61.90435028, 61.33090591, 61.51335144, 61.4872818, 61.77400589, 61.98254395, 62.81683731, 63.20798492, 63.23406982, 63.10367203, 62.84291458, 62.92113495, 62.71253586, 62.94721985, 62.60823822, 62.32144547, 62.13895798, 62.06074905, 62.13895798, 61.69580841, 61.43516159, 61.38302612, 61.27878952, 61.22665405, 61.14846802, 61.12240219, 61.69580841, 61.4872818, 61.30483627, 62.08682632, 61.74795151, 61.07029343, 61.09635544, 61.14846802, 61.98254395, 62.58218002, 62.60823822, 62.42573166, 62.03467560000001, 62.03467560000001, 62.37359238, 62.08682632, 61.82614899, 61.9564743, 62.00862503, 61.9564743, 61.64368439, 61.4872818, 60.49699402, 62.39967346, 63.44267654, 62.86897278, 63.44267654, 63.886081700000005, 64.45994568, 64.30342865, 64.30342865, 64.72084808, 65.66021729, 65.86898041, 65.86898041, 65.79069519, 65.47751617, 65.26877594, 64.74691772, 64.43387604, 64.38168335, 64.22516632, 64.06866455, 63.44267654, 62.26931381, 62.19110489, 62.37359238, 62.63431549, 62.92113495, 63.520919799999994, 63.93824005, 64.17298889, 64.32952118, 64.56430054, 64.45994568, 64.06866455, 63.91214752, 63.7295723, 63.10367203, 62.55610275, 62.71253586, 63.20798492], \"SUCTION_PRESSURE_1\": [1.180996537, 1.119931579, 1.113825083, 1.164203644, 1.168783545, 1.205422521, 1.148937464, 1.136724472, 1.208475709, 1.194736123, 1.203895807, 1.217635512, 1.272593975, 1.252747893, 1.25885427, 1.203895807, 1.252747893, 1.286333561, 1.182523131, 1.193209529, 1.2573276759999998, 1.255801201, 1.246641397, 1.234428406, 1.138250947, 1.080239415, 1.107718587, 1.214582324, 1.2542746070000002, 1.119931579, 1.156570554, 1.191682816, 1.206949115, 1.200842738, 1.200842738, 1.242061615, 1.24358809, 1.226795316, 1.103138685, 1.0924524070000001, 1.142830968, 0.926050246, 1.097032309, 1.093979001, 1.095505595, 1.086345792, 0.98558867, 0.955056131, 0.976428926, 0.984062016, 1.0359672309999999, 0.996275008, 0.956582785, 1.023754239, 1.0039081570000001, 0.974902332, 0.964215815, 0.979482055, 1.00848794, 1.0008549690000001, 1.289386868, 0.8497190480000001, 0.84666574, 1.020700932, 0.932156801, 0.935210049, 0.935210049, 1.046653509, 1.045126915, 0.958109379, 0.8863580230000001, 0.8863580230000001, 0.8863580230000001, 0.884831369, 0.884831369, 0.884831369, 0.924523592, 0.88177824, 0.8802515860000001, 0.8787249330000001, 0.877198279, 0.997801602, 1.0924524070000001, 1.086345792, 1.1535172459999998, 1.24358809, 1.283280253, 1.197789431, 1.193209529, 1.261907578, 1.268014193, 1.271067262, 1.268014193, 1.199316025, 1.1748900409999998, 1.216108918, 1.232901692, 1.269540787, 0.999328256, 0.987115264], \"SUCTION_STRAINER_DP\": [19.638496399999998, 16.76844215, 16.95163727, 19.02784538, 18.96678162, 20.12701416, 18.35613251, 17.62335205, 20.85979652, 20.31021118, 20.61553383, 21.83683586, 24.15730286, 22.87493896, 23.54665375, 20.31021118, 22.69174576, 25.37860489, 19.76062775, 20.4934063, 23.11919975, 23.11919975, 22.69174576, 22.44748688, 17.3180275, 15.97459793, 17.37909317, 23.11919975, 23.2413311, 16.70737648, 20.73766518, 22.56961441, 21.34831619, 22.32535553, 21.40938187, 22.69174576, 21.71470451, 21.16511917, 16.34098816, 15.66927242, 17.68441772, 10.47875118, 15.79140377, 16.0356636, 15.54714394, 15.11968708, 12.98241329, 11.27259541, 11.82218075, 11.700049400000001, 13.53199863, 12.49389362, 11.15046406, 13.65412998, 12.31070042, 12.06644058, 12.00537491, 12.06644058, 13.16560745, 12.73815346, 25.19540787, 8.891061783, 8.707864761, 12.98241329, 10.90620518, 10.41768551, 10.90620518, 14.44797421, 14.08158302, 11.02833652, 9.623841286000001, 9.68490696, 9.501709938, 9.501709938, 9.562775612000001, 9.623841286000001, 10.96727085, 9.745968819, 9.745968819, 9.501709938, 9.379581451, 14.44797421, 16.34098816, 16.70737648, 19.82168961, 22.93600464, 25.74499321, 21.16511917, 22.56961441, 24.21836853, 24.82901955, 25.19540787, 24.64582253, 21.28725052, 20.00488663, 23.6687851, 23.18026543, 25.68392754, 12.98241329, 13.04347897], \"SUCTION_TEMP_1\": [179.2309418, 176.2864075, 175.93542480000002, 178.2311249, 178.5013428, 180.4474182, 177.66381840000003, 177.0425415, 180.4474182, 179.7445068, 180.285202, 180.7718658, 183.20635990000002, 182.5840454, 182.611084, 180.3122253, 182.44876100000002, 183.8829498, 179.5282593, 179.6904602, 182.63815309999998, 182.63815309999998, 182.1782532, 181.6372833, 177.5287476, 173.9650879, 175.881424, 180.6096344, 182.63815309999998, 176.8535004, 177.33964540000002, 178.55535890000002, 180.3663025, 180.1770325, 180.1500244, 181.98887630000002, 181.79954530000003, 181.177475, 174.342865, 174.66673280000003, 177.2045898, 165.477005, 174.96360780000003, 175.0445862, 175.0445862, 174.7476959, 168.9503326, 167.2266541, 168.6270905, 168.8964844, 171.7533417, 169.7586365, 167.2805176, 171.0523376, 169.8664551, 168.41160580000002, 168.00761409999998, 168.6540222, 170.3246002, 170.2167664, 183.9370728, 161.09355159999998, 160.63673400000002, 172.6432648, 166.0690918, 166.2036896, 166.149826, 172.42749019999997, 172.3466034, 168.41160580000002, 163.1635132, 163.109726, 163.1366425, 163.1366425, 163.2173157, 163.1366425, 164.3738403, 163.05593869999998, 162.8946075, 162.7601929, 162.7332764, 168.6809845, 174.8826447, 174.8016357, 177.66381840000003, 181.9618378, 183.7476501, 180.1500244, 179.93374630000002, 182.935791, 183.1522675, 183.1251678, 183.26048280000003, 180.1770325, 178.9337006, 180.907074, 181.69134519999997, 183.39581299999998, 170.8636627, 169.21977230000002], \"time\": [1542473183734.0, 1542473188740.0, 1542473193746.0, 1542473198751.0, 1542473203757.0, 1542473208763.0, 1542473213769.0, 1542473218775.0, 1542473223781.0, 1542473228786.0, 1542473233792.0, 1542473238798.0, 1542473243804.0, 1542473248810.0, 1542473253816.0, 1542473258821.0, 1542473263827.0, 1542473268833.0, 1542473273839.0, 1542473278841.0, 1542473283847.0, 1542473288854.0, 1542473293860.0, 1542473298866.0, 1542473303872.0, 1542473308878.0, 1542473313884.0, 1542473318890.0, 1542473323897.0, 1542473328903.0, 1542473333909.0, 1542473338915.0, 1542473343921.0, 1542473348926.0, 1542473353932.0, 1542473358938.0, 1542473363944.0, 1542473368953.0, 1542473373959.0, 1542473378966.0, 1542473383971.0, 1542473388977.0, 1542473393983.0, 1542473398990.0, 1542473403996.0, 1542473409002.0, 1542473414008.0, 1542473419013.0, 1542473424019.0, 1542473429025.0, 1542473434031.0, 1542473439037.0, 1542473444042.0, 1542473449048.0, 1542473454054.0, 1542473459060.0, 1542473464066.0, 1542473469072.0, 1542473474077.0, 1542473479083.0, 1542473484089.0, 1542473489095.0, 1542473494101.0, 1542473499109.0, 1542473504115.0, 1542473509121.0, 1542473514126.0, 1542473519132.0, 1542473524138.0, 1542473529144.0, 1542473534150.0, 1542473539156.0, 1542473544161.0, 1542473549167.0, 1542473554173.0, 1542473559177.0, 1542473564183.0, 1542473569189.0, 1542473574193.0, 1542473579199.0, 1542473584205.0, 1542473589209.0, 1542473594215.0, 1542473599221.0, 1542473604227.0, 1542473609233.0, 1542473614239.0, 1542473619245.0, 1542473624251.0, 1542473629256.0, 1542473634262.0, 1542473639268.0, 1542473644274.0, 1542473649280.0, 1542473654286.0, 1542473659291.0, 1542473664297.0, 1542473669303.0, 1542473674306.0, 1542473679307.0]}'"
      ]
     },
     "execution_count": 178,
     "metadata": {},
     "output_type": "execute_result"
    }
   ],
   "source": [
    "json.dumps(S_json)"
   ]
  },
  {
   "cell_type": "code",
   "execution_count": 137,
   "metadata": {},
   "outputs": [
    {
     "data": {
      "text/html": [
       "\n",
       "<div class=\"bk-root\">\n",
       "    <div class=\"bk-plotdiv\" id=\"c388847c-c22e-4248-97cf-f2723f03a4d3\"></div>\n",
       "</div>"
      ]
     },
     "metadata": {},
     "output_type": "display_data"
    },
    {
     "data": {
      "application/javascript": [
       "(function(root) {\n",
       "  function embed_document(root) {\n",
       "    \n",
       "  var docs_json = {\"0d49ea4c-132c-4cc3-a75b-866ca7844256\":{\"roots\":{\"references\":[{\"attributes\":{},\"id\":\"30989627-fb50-4bd4-bc17-85d5eedc6d80\",\"type\":\"LinearScale\"},{\"attributes\":{},\"id\":\"27fc5a84-a7f3-4090-82e8-cc73489a3cdb\",\"type\":\"YearsTicker\"},{\"attributes\":{\"callback\":null},\"id\":\"64a1259a-996f-46b0-9caa-430797d59035\",\"type\":\"DataRange1d\"},{\"attributes\":{\"active_drag\":\"auto\",\"active_inspect\":\"auto\",\"active_scroll\":\"auto\",\"active_tap\":\"auto\",\"tools\":[{\"id\":\"761d2771-27c4-4644-ba9b-7491d47bcf72\",\"type\":\"PanTool\"},{\"id\":\"d3774177-9473-4e35-b2df-3a34095e2107\",\"type\":\"WheelZoomTool\"},{\"id\":\"3a414734-3d75-4160-9156-886efddeb08b\",\"type\":\"BoxZoomTool\"},{\"id\":\"5b71cca9-7342-4a3c-862a-bba01390390f\",\"type\":\"SaveTool\"},{\"id\":\"aef9d476-58df-46cd-8f23-2d767b5f8ce5\",\"type\":\"ResetTool\"},{\"id\":\"2aa7e1a2-db29-4972-9e7c-e645a6064363\",\"type\":\"HelpTool\"}]},\"id\":\"f9ebc737-c30b-49d1-a74d-24a215174bc0\",\"type\":\"Toolbar\"},{\"attributes\":{\"months\":[0,2,4,6,8,10]},\"id\":\"b76827bb-b053-43a6-81ea-3d8cd55df0e2\",\"type\":\"MonthsTicker\"},{\"attributes\":{\"overlay\":{\"id\":\"c05c44e7-039f-44ed-8be6-67bc702df125\",\"type\":\"BoxAnnotation\"}},\"id\":\"3a414734-3d75-4160-9156-886efddeb08b\",\"type\":\"BoxZoomTool\"},{\"attributes\":{\"days\":[1,2,3,4,5,6,7,8,9,10,11,12,13,14,15,16,17,18,19,20,21,22,23,24,25,26,27,28,29,30,31]},\"id\":\"abc800e2-6968-4ce3-819a-cd619a1485ef\",\"type\":\"DaysTicker\"},{\"attributes\":{},\"id\":\"85c819c9-fabf-4751-9829-94afc5a36ecc\",\"type\":\"Selection\"},{\"attributes\":{\"below\":[{\"id\":\"454f7dcb-bdda-4dc1-8d7f-fbe7bfb9a971\",\"type\":\"DatetimeAxis\"}],\"left\":[{\"id\":\"9b0558e3-04f8-419d-9672-c426486a10b2\",\"type\":\"LinearAxis\"}],\"renderers\":[{\"id\":\"454f7dcb-bdda-4dc1-8d7f-fbe7bfb9a971\",\"type\":\"DatetimeAxis\"},{\"id\":\"200eb05b-71cc-430f-95f2-1d73bf33e52c\",\"type\":\"Grid\"},{\"id\":\"9b0558e3-04f8-419d-9672-c426486a10b2\",\"type\":\"LinearAxis\"},{\"id\":\"cfe6fb60-cd07-4e35-b867-75364293dace\",\"type\":\"Grid\"},{\"id\":\"c05c44e7-039f-44ed-8be6-67bc702df125\",\"type\":\"BoxAnnotation\"},{\"id\":\"5f5777fe-0aa6-46f7-b476-24688ae2931b\",\"type\":\"GlyphRenderer\"}],\"title\":{\"id\":\"fff7645f-bf62-4414-8d19-4c2192c1e8e7\",\"type\":\"Title\"},\"toolbar\":{\"id\":\"f9ebc737-c30b-49d1-a74d-24a215174bc0\",\"type\":\"Toolbar\"},\"x_range\":{\"id\":\"64a1259a-996f-46b0-9caa-430797d59035\",\"type\":\"DataRange1d\"},\"x_scale\":{\"id\":\"30989627-fb50-4bd4-bc17-85d5eedc6d80\",\"type\":\"LinearScale\"},\"y_range\":{\"id\":\"7f8876fe-e476-4651-a040-1bd097f7c967\",\"type\":\"DataRange1d\"},\"y_scale\":{\"id\":\"58339c82-bb11-4309-ae24-68ccf10aa922\",\"type\":\"LinearScale\"}},\"id\":\"a3896b90-b4cb-4935-9cdb-ac3a82716a88\",\"subtype\":\"Figure\",\"type\":\"Plot\"},{\"attributes\":{},\"id\":\"58339c82-bb11-4309-ae24-68ccf10aa922\",\"type\":\"LinearScale\"},{\"attributes\":{\"line_alpha\":0.1,\"line_color\":\"#1f77b4\",\"x\":{\"field\":\"x\"},\"y\":{\"field\":\"y\"}},\"id\":\"debd35f8-68d2-47d6-ae38-3862a3180f2c\",\"type\":\"Line\"},{\"attributes\":{},\"id\":\"5b71cca9-7342-4a3c-862a-bba01390390f\",\"type\":\"SaveTool\"},{\"attributes\":{\"callback\":null,\"data\":{\"x\":[1544976000.0,1544976001.0,1544976002.0],\"y\":[9,3,2]},\"selected\":{\"id\":\"85c819c9-fabf-4751-9829-94afc5a36ecc\",\"type\":\"Selection\"},\"selection_policy\":{\"id\":\"fe6df9c9-bb76-45bb-9441-1c9ceaa0ae5b\",\"type\":\"UnionRenderers\"}},\"id\":\"6bfe8bf6-4757-444d-b735-eb72b0d84f69\",\"type\":\"ColumnDataSource\"},{\"attributes\":{\"days\":[1,4,7,10,13,16,19,22,25,28]},\"id\":\"4ae36ba2-b9d2-4d1e-aa2e-bb4cdba5559d\",\"type\":\"DaysTicker\"},{\"attributes\":{\"months\":[0,1,2,3,4,5,6,7,8,9,10,11]},\"id\":\"494a9032-5a16-4d06-9acd-9e48f3c672ea\",\"type\":\"MonthsTicker\"},{\"attributes\":{\"days\":[1,15]},\"id\":\"62858f58-d33a-4ee1-9543-85b753387d2d\",\"type\":\"DaysTicker\"},{\"attributes\":{\"formatter\":{\"id\":\"337e5341-e0de-48c3-85e0-e42778f42843\",\"type\":\"BasicTickFormatter\"},\"plot\":{\"id\":\"a3896b90-b4cb-4935-9cdb-ac3a82716a88\",\"subtype\":\"Figure\",\"type\":\"Plot\"},\"ticker\":{\"id\":\"9c9da04e-7260-4cf1-af95-e7d4a6428d5f\",\"type\":\"BasicTicker\"}},\"id\":\"9b0558e3-04f8-419d-9672-c426486a10b2\",\"type\":\"LinearAxis\"},{\"attributes\":{\"plot\":{\"id\":\"a3896b90-b4cb-4935-9cdb-ac3a82716a88\",\"subtype\":\"Figure\",\"type\":\"Plot\"},\"ticker\":{\"id\":\"25ef8622-e268-4743-82c2-d8a44aa39705\",\"type\":\"DatetimeTicker\"}},\"id\":\"200eb05b-71cc-430f-95f2-1d73bf33e52c\",\"type\":\"Grid\"},{\"attributes\":{\"formatter\":{\"id\":\"b2d8ef8d-16e3-4a77-b31d-166b8101a097\",\"type\":\"DatetimeTickFormatter\"},\"plot\":{\"id\":\"a3896b90-b4cb-4935-9cdb-ac3a82716a88\",\"subtype\":\"Figure\",\"type\":\"Plot\"},\"ticker\":{\"id\":\"25ef8622-e268-4743-82c2-d8a44aa39705\",\"type\":\"DatetimeTicker\"}},\"id\":\"454f7dcb-bdda-4dc1-8d7f-fbe7bfb9a971\",\"type\":\"DatetimeAxis\"},{\"attributes\":{\"months\":[0,6]},\"id\":\"dd884c53-6995-4983-b15b-71ec8d3c1703\",\"type\":\"MonthsTicker\"},{\"attributes\":{\"num_minor_ticks\":5,\"tickers\":[{\"id\":\"57ed8a2d-992a-4ef7-97cf-5ec1c2133c61\",\"type\":\"AdaptiveTicker\"},{\"id\":\"9e215229-ca5b-42b7-94c3-57ef104715d7\",\"type\":\"AdaptiveTicker\"},{\"id\":\"c5bea784-fdb4-4dda-a67d-04b2a5661390\",\"type\":\"AdaptiveTicker\"},{\"id\":\"abc800e2-6968-4ce3-819a-cd619a1485ef\",\"type\":\"DaysTicker\"},{\"id\":\"4ae36ba2-b9d2-4d1e-aa2e-bb4cdba5559d\",\"type\":\"DaysTicker\"},{\"id\":\"638b188f-78cd-444e-a8c2-038bb9c22c8c\",\"type\":\"DaysTicker\"},{\"id\":\"62858f58-d33a-4ee1-9543-85b753387d2d\",\"type\":\"DaysTicker\"},{\"id\":\"494a9032-5a16-4d06-9acd-9e48f3c672ea\",\"type\":\"MonthsTicker\"},{\"id\":\"b76827bb-b053-43a6-81ea-3d8cd55df0e2\",\"type\":\"MonthsTicker\"},{\"id\":\"ddc874e3-854d-4551-9ccd-262d598b8b31\",\"type\":\"MonthsTicker\"},{\"id\":\"dd884c53-6995-4983-b15b-71ec8d3c1703\",\"type\":\"MonthsTicker\"},{\"id\":\"27fc5a84-a7f3-4090-82e8-cc73489a3cdb\",\"type\":\"YearsTicker\"}]},\"id\":\"25ef8622-e268-4743-82c2-d8a44aa39705\",\"type\":\"DatetimeTicker\"},{\"attributes\":{\"dimension\":1,\"plot\":{\"id\":\"a3896b90-b4cb-4935-9cdb-ac3a82716a88\",\"subtype\":\"Figure\",\"type\":\"Plot\"},\"ticker\":{\"id\":\"9c9da04e-7260-4cf1-af95-e7d4a6428d5f\",\"type\":\"BasicTicker\"}},\"id\":\"cfe6fb60-cd07-4e35-b867-75364293dace\",\"type\":\"Grid\"},{\"attributes\":{},\"id\":\"9c9da04e-7260-4cf1-af95-e7d4a6428d5f\",\"type\":\"BasicTicker\"},{\"attributes\":{},\"id\":\"fe6df9c9-bb76-45bb-9441-1c9ceaa0ae5b\",\"type\":\"UnionRenderers\"},{\"attributes\":{},\"id\":\"b2d8ef8d-16e3-4a77-b31d-166b8101a097\",\"type\":\"DatetimeTickFormatter\"},{\"attributes\":{\"line_color\":\"#1f77b4\",\"x\":{\"field\":\"x\"},\"y\":{\"field\":\"y\"}},\"id\":\"186e2cbc-4522-4f34-889a-c8eeec114917\",\"type\":\"Line\"},{\"attributes\":{\"base\":24,\"mantissas\":[1,2,4,6,8,12],\"max_interval\":43200000.0,\"min_interval\":3600000.0,\"num_minor_ticks\":0},\"id\":\"c5bea784-fdb4-4dda-a67d-04b2a5661390\",\"type\":\"AdaptiveTicker\"},{\"attributes\":{},\"id\":\"761d2771-27c4-4644-ba9b-7491d47bcf72\",\"type\":\"PanTool\"},{\"attributes\":{\"bottom_units\":\"screen\",\"fill_alpha\":{\"value\":0.5},\"fill_color\":{\"value\":\"lightgrey\"},\"left_units\":\"screen\",\"level\":\"overlay\",\"line_alpha\":{\"value\":1.0},\"line_color\":{\"value\":\"black\"},\"line_dash\":[4,4],\"line_width\":{\"value\":2},\"plot\":null,\"render_mode\":\"css\",\"right_units\":\"screen\",\"top_units\":\"screen\"},\"id\":\"c05c44e7-039f-44ed-8be6-67bc702df125\",\"type\":\"BoxAnnotation\"},{\"attributes\":{\"base\":60,\"mantissas\":[1,2,5,10,15,20,30],\"max_interval\":1800000.0,\"min_interval\":1000.0,\"num_minor_ticks\":0},\"id\":\"9e215229-ca5b-42b7-94c3-57ef104715d7\",\"type\":\"AdaptiveTicker\"},{\"attributes\":{\"plot\":null,\"text\":\"\"},\"id\":\"fff7645f-bf62-4414-8d19-4c2192c1e8e7\",\"type\":\"Title\"},{\"attributes\":{\"days\":[1,8,15,22]},\"id\":\"638b188f-78cd-444e-a8c2-038bb9c22c8c\",\"type\":\"DaysTicker\"},{\"attributes\":{},\"id\":\"337e5341-e0de-48c3-85e0-e42778f42843\",\"type\":\"BasicTickFormatter\"},{\"attributes\":{},\"id\":\"d3774177-9473-4e35-b2df-3a34095e2107\",\"type\":\"WheelZoomTool\"},{\"attributes\":{\"source\":{\"id\":\"6bfe8bf6-4757-444d-b735-eb72b0d84f69\",\"type\":\"ColumnDataSource\"}},\"id\":\"0c072183-722b-470b-ba9f-9025f04a0fd9\",\"type\":\"CDSView\"},{\"attributes\":{\"months\":[0,4,8]},\"id\":\"ddc874e3-854d-4551-9ccd-262d598b8b31\",\"type\":\"MonthsTicker\"},{\"attributes\":{\"mantissas\":[1,2,5],\"max_interval\":500.0,\"num_minor_ticks\":0},\"id\":\"57ed8a2d-992a-4ef7-97cf-5ec1c2133c61\",\"type\":\"AdaptiveTicker\"},{\"attributes\":{\"data_source\":{\"id\":\"6bfe8bf6-4757-444d-b735-eb72b0d84f69\",\"type\":\"ColumnDataSource\"},\"glyph\":{\"id\":\"186e2cbc-4522-4f34-889a-c8eeec114917\",\"type\":\"Line\"},\"hover_glyph\":null,\"muted_glyph\":null,\"nonselection_glyph\":{\"id\":\"debd35f8-68d2-47d6-ae38-3862a3180f2c\",\"type\":\"Line\"},\"selection_glyph\":null,\"view\":{\"id\":\"0c072183-722b-470b-ba9f-9025f04a0fd9\",\"type\":\"CDSView\"}},\"id\":\"5f5777fe-0aa6-46f7-b476-24688ae2931b\",\"type\":\"GlyphRenderer\"},{\"attributes\":{},\"id\":\"2aa7e1a2-db29-4972-9e7c-e645a6064363\",\"type\":\"HelpTool\"},{\"attributes\":{\"callback\":null},\"id\":\"7f8876fe-e476-4651-a040-1bd097f7c967\",\"type\":\"DataRange1d\"},{\"attributes\":{},\"id\":\"aef9d476-58df-46cd-8f23-2d767b5f8ce5\",\"type\":\"ResetTool\"}],\"root_ids\":[\"a3896b90-b4cb-4935-9cdb-ac3a82716a88\"]},\"title\":\"Bokeh Application\",\"version\":\"0.12.16\"}};\n",
       "  var render_items = [{\"docid\":\"0d49ea4c-132c-4cc3-a75b-866ca7844256\",\"elementid\":\"c388847c-c22e-4248-97cf-f2723f03a4d3\",\"modelid\":\"a3896b90-b4cb-4935-9cdb-ac3a82716a88\"}];\n",
       "  root.Bokeh.embed.embed_items_notebook(docs_json, render_items);\n",
       "\n",
       "  }\n",
       "  if (root.Bokeh !== undefined) {\n",
       "    embed_document(root);\n",
       "  } else {\n",
       "    var attempts = 0;\n",
       "    var timer = setInterval(function(root) {\n",
       "      if (root.Bokeh !== undefined) {\n",
       "        embed_document(root);\n",
       "        clearInterval(timer);\n",
       "      }\n",
       "      attempts++;\n",
       "      if (attempts > 100) {\n",
       "        console.log(\"Bokeh: ERROR: Unable to run BokehJS code because BokehJS library is missing\")\n",
       "        clearInterval(timer);\n",
       "      }\n",
       "    }, 10, root)\n",
       "  }\n",
       "})(window);"
      ],
      "application/vnd.bokehjs_exec.v0+json": ""
     },
     "metadata": {
      "application/vnd.bokehjs_exec.v0+json": {
       "id": "a3896b90-b4cb-4935-9cdb-ac3a82716a88"
      }
     },
     "output_type": "display_data"
    }
   ],
   "source": [
    "data = {\n",
    "    'x' : [1544976000.000,1544976001.000,1544976002.000 ],\n",
    "    'y' : [9, 3, 2]\n",
    "}\n",
    "source = ColumnDataSource(data=data)\n",
    "p=Figure(x_axis_type=\"datetime\")\n",
    "p.line(x='x',y='y',source=source)\n",
    "show(p)"
   ]
  },
  {
   "cell_type": "code",
   "execution_count": 197,
   "metadata": {},
   "outputs": [],
   "source": [
    "J={ 'x' : [np.random.randint(5), np.random.randint(5), np.random.randint(5)],\n",
    "    'y' : [np.random.randint(3), np.random.randint(3), np.random.randint(3)]}"
   ]
  },
  {
   "cell_type": "code",
   "execution_count": 198,
   "metadata": {},
   "outputs": [],
   "source": [
    "J_S=json.dumps(J)"
   ]
  },
  {
   "cell_type": "code",
   "execution_count": 199,
   "metadata": {},
   "outputs": [],
   "source": [
    "J1 = json.loads(J_S)"
   ]
  },
  {
   "cell_type": "code",
   "execution_count": 200,
   "metadata": {},
   "outputs": [
    {
     "data": {
      "text/plain": [
       "{'x': [0, 3, 2], 'y': [1, 2, 2]}"
      ]
     },
     "execution_count": 200,
     "metadata": {},
     "output_type": "execute_result"
    }
   ],
   "source": [
    "J1"
   ]
  },
  {
   "cell_type": "code",
   "execution_count": 90,
   "metadata": {},
   "outputs": [],
   "source": [
    "import numpy as np\n"
   ]
  },
  {
   "cell_type": "code",
   "execution_count": 117,
   "metadata": {},
   "outputs": [],
   "source": [
    "t=R.index[1]"
   ]
  },
  {
   "cell_type": "code",
   "execution_count": 132,
   "metadata": {},
   "outputs": [
    {
     "data": {
      "text/plain": [
       "1542473188740000000"
      ]
     },
     "execution_count": 132,
     "metadata": {},
     "output_type": "execute_result"
    }
   ],
   "source": [
    "t.value"
   ]
  },
  {
   "cell_type": "code",
   "execution_count": 133,
   "metadata": {},
   "outputs": [
    {
     "data": {
      "text/plain": [
       "Timestamp('2018-11-17 16:46:28.740000')"
      ]
     },
     "execution_count": 133,
     "metadata": {},
     "output_type": "execute_result"
    }
   ],
   "source": [
    "t"
   ]
  },
  {
   "cell_type": "code",
   "execution_count": 106,
   "metadata": {},
   "outputs": [],
   "source": [
    "from datetime import datetime"
   ]
  },
  {
   "cell_type": "code",
   "execution_count": 116,
   "metadata": {},
   "outputs": [],
   "source": [
    "t1 = datetime(2018,12,17)"
   ]
  },
  {
   "cell_type": "code",
   "execution_count": 123,
   "metadata": {},
   "outputs": [
    {
     "data": {
      "text/plain": [
       "1544976000.0"
      ]
     },
     "execution_count": 123,
     "metadata": {},
     "output_type": "execute_result"
    }
   ],
   "source": [
    "t1.timestamp()"
   ]
  },
  {
   "cell_type": "code",
   "execution_count": 127,
   "metadata": {},
   "outputs": [],
   "source": [
    "t2=np.datetime64(t1)"
   ]
  },
  {
   "cell_type": "code",
   "execution_count": 131,
   "metadata": {},
   "outputs": [
    {
     "data": {
      "text/plain": [
       "<function datetime64.astype>"
      ]
     },
     "execution_count": 131,
     "metadata": {},
     "output_type": "execute_result"
    }
   ],
   "source": [
    "t2.astype"
   ]
  },
  {
   "cell_type": "code",
   "execution_count": null,
   "metadata": {},
   "outputs": [],
   "source": []
  }
 ],
 "metadata": {
  "kernelspec": {
   "display_name": "Python 3",
   "language": "python",
   "name": "python3"
  },
  "language_info": {
   "codemirror_mode": {
    "name": "ipython",
    "version": 3
   },
   "file_extension": ".py",
   "mimetype": "text/x-python",
   "name": "python",
   "nbconvert_exporter": "python",
   "pygments_lexer": "ipython3",
   "version": "3.6.5"
  }
 },
 "nbformat": 4,
 "nbformat_minor": 2
}
